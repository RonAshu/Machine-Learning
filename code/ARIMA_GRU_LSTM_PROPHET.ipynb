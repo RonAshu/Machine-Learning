{
  "nbformat": 4,
  "nbformat_minor": 0,
  "metadata": {
    "colab": {
      "name": "1. parc_all.ipynb",
      "provenance": [],
      "collapsed_sections": []
    },
    "kernelspec": {
      "name": "python3",
      "display_name": "Python 3"
    }
  },
  "cells": [
    {
      "cell_type": "markdown",
      "metadata": {
        "id": "npVOUd80CJtR"
      },
      "source": [
        "[link text](https://medium.com/@cdabakoglu/time-series-forecasting-arima-lstm-prophet-with-python-e73a750a9887)"
      ]
    },
    {
      "cell_type": "markdown",
      "metadata": {
        "id": "O0D-_y0EEGnc"
      },
      "source": [
        "***ARIMA***"
      ]
    },
    {
      "cell_type": "code",
      "metadata": {
        "id": "QfOj2NMyCPAT"
      },
      "source": [
        "import numpy as np\n",
        "import pandas as pd\n",
        "from statsmodels.tsa.statespace.sarimax import SARIMAX\n",
        "from statsmodels.graphics.tsaplots import plot_acf,plot_pacf \n",
        "from statsmodels.tsa.seasonal import seasonal_decompose \n",
        "#from pmdarima import auto_arima                        \n",
        "from sklearn.metrics import mean_squared_error\n",
        "from statsmodels.tools.eval_measures import rmse\n",
        "import warnings\n",
        "warnings.filterwarnings(\"ignore\")\n",
        "import matplotlib.pyplot as plt"
      ],
      "execution_count": null,
      "outputs": []
    },
    {
      "cell_type": "code",
      "metadata": {
        "id": "4cDIj8jBCnWg"
      },
      "source": [
        "url =\"https://raw.githubusercontent.com/Ashutoshrx/NIFTY50/master/nifty50.csv\""
      ],
      "execution_count": null,
      "outputs": []
    },
    {
      "cell_type": "code",
      "metadata": {
        "id": "h1BAQZeoCbFH",
        "colab": {
          "base_uri": "https://localhost:8080/",
          "height": 195
        },
        "outputId": "abae8696-bf01-4172-96d1-ed08a0d463bf"
      },
      "source": [
        "df = pd.read_csv(url)\n",
        "df.head()"
      ],
      "execution_count": null,
      "outputs": [
        {
          "output_type": "execute_result",
          "data": {
            "text/html": [
              "<div>\n",
              "<style scoped>\n",
              "    .dataframe tbody tr th:only-of-type {\n",
              "        vertical-align: middle;\n",
              "    }\n",
              "\n",
              "    .dataframe tbody tr th {\n",
              "        vertical-align: top;\n",
              "    }\n",
              "\n",
              "    .dataframe thead th {\n",
              "        text-align: right;\n",
              "    }\n",
              "</style>\n",
              "<table border=\"1\" class=\"dataframe\">\n",
              "  <thead>\n",
              "    <tr style=\"text-align: right;\">\n",
              "      <th></th>\n",
              "      <th>Date</th>\n",
              "      <th>Open</th>\n",
              "      <th>High</th>\n",
              "      <th>Low</th>\n",
              "      <th>Close</th>\n",
              "    </tr>\n",
              "  </thead>\n",
              "  <tbody>\n",
              "    <tr>\n",
              "      <th>0</th>\n",
              "      <td>02-Nov-15</td>\n",
              "      <td>8054.55</td>\n",
              "      <td>8060.70</td>\n",
              "      <td>7995.60</td>\n",
              "      <td>8050.80</td>\n",
              "    </tr>\n",
              "    <tr>\n",
              "      <th>1</th>\n",
              "      <td>03-Nov-15</td>\n",
              "      <td>8086.35</td>\n",
              "      <td>8100.35</td>\n",
              "      <td>8031.75</td>\n",
              "      <td>8060.70</td>\n",
              "    </tr>\n",
              "    <tr>\n",
              "      <th>2</th>\n",
              "      <td>04-Nov-15</td>\n",
              "      <td>8104.90</td>\n",
              "      <td>8116.10</td>\n",
              "      <td>8027.30</td>\n",
              "      <td>8040.20</td>\n",
              "    </tr>\n",
              "    <tr>\n",
              "      <th>3</th>\n",
              "      <td>05-Nov-15</td>\n",
              "      <td>8030.35</td>\n",
              "      <td>8031.20</td>\n",
              "      <td>7944.10</td>\n",
              "      <td>7955.45</td>\n",
              "    </tr>\n",
              "    <tr>\n",
              "      <th>4</th>\n",
              "      <td>06-Nov-15</td>\n",
              "      <td>7956.55</td>\n",
              "      <td>8002.65</td>\n",
              "      <td>7926.15</td>\n",
              "      <td>7954.30</td>\n",
              "    </tr>\n",
              "  </tbody>\n",
              "</table>\n",
              "</div>"
            ],
            "text/plain": [
              "        Date     Open     High      Low    Close\n",
              "0  02-Nov-15  8054.55  8060.70  7995.60  8050.80\n",
              "1  03-Nov-15  8086.35  8100.35  8031.75  8060.70\n",
              "2  04-Nov-15  8104.90  8116.10  8027.30  8040.20\n",
              "3  05-Nov-15  8030.35  8031.20  7944.10  7955.45\n",
              "4  06-Nov-15  7956.55  8002.65  7926.15  7954.30"
            ]
          },
          "metadata": {
            "tags": []
          },
          "execution_count": 65
        }
      ]
    },
    {
      "cell_type": "code",
      "metadata": {
        "id": "CJKpU5jGCs3z",
        "colab": {
          "base_uri": "https://localhost:8080/",
          "height": 225
        },
        "outputId": "951104db-0de8-4eb4-f5b1-fc029cb0beca"
      },
      "source": [
        "df.Date = pd.to_datetime(df.Date)\n",
        "df = df.set_index(\"Date\")\n",
        "df.head()"
      ],
      "execution_count": null,
      "outputs": [
        {
          "output_type": "execute_result",
          "data": {
            "text/html": [
              "<div>\n",
              "<style scoped>\n",
              "    .dataframe tbody tr th:only-of-type {\n",
              "        vertical-align: middle;\n",
              "    }\n",
              "\n",
              "    .dataframe tbody tr th {\n",
              "        vertical-align: top;\n",
              "    }\n",
              "\n",
              "    .dataframe thead th {\n",
              "        text-align: right;\n",
              "    }\n",
              "</style>\n",
              "<table border=\"1\" class=\"dataframe\">\n",
              "  <thead>\n",
              "    <tr style=\"text-align: right;\">\n",
              "      <th></th>\n",
              "      <th>Open</th>\n",
              "      <th>High</th>\n",
              "      <th>Low</th>\n",
              "      <th>Close</th>\n",
              "    </tr>\n",
              "    <tr>\n",
              "      <th>Date</th>\n",
              "      <th></th>\n",
              "      <th></th>\n",
              "      <th></th>\n",
              "      <th></th>\n",
              "    </tr>\n",
              "  </thead>\n",
              "  <tbody>\n",
              "    <tr>\n",
              "      <th>2015-11-02</th>\n",
              "      <td>8054.55</td>\n",
              "      <td>8060.70</td>\n",
              "      <td>7995.60</td>\n",
              "      <td>8050.80</td>\n",
              "    </tr>\n",
              "    <tr>\n",
              "      <th>2015-11-03</th>\n",
              "      <td>8086.35</td>\n",
              "      <td>8100.35</td>\n",
              "      <td>8031.75</td>\n",
              "      <td>8060.70</td>\n",
              "    </tr>\n",
              "    <tr>\n",
              "      <th>2015-11-04</th>\n",
              "      <td>8104.90</td>\n",
              "      <td>8116.10</td>\n",
              "      <td>8027.30</td>\n",
              "      <td>8040.20</td>\n",
              "    </tr>\n",
              "    <tr>\n",
              "      <th>2015-11-05</th>\n",
              "      <td>8030.35</td>\n",
              "      <td>8031.20</td>\n",
              "      <td>7944.10</td>\n",
              "      <td>7955.45</td>\n",
              "    </tr>\n",
              "    <tr>\n",
              "      <th>2015-11-06</th>\n",
              "      <td>7956.55</td>\n",
              "      <td>8002.65</td>\n",
              "      <td>7926.15</td>\n",
              "      <td>7954.30</td>\n",
              "    </tr>\n",
              "  </tbody>\n",
              "</table>\n",
              "</div>"
            ],
            "text/plain": [
              "               Open     High      Low    Close\n",
              "Date                                          \n",
              "2015-11-02  8054.55  8060.70  7995.60  8050.80\n",
              "2015-11-03  8086.35  8100.35  8031.75  8060.70\n",
              "2015-11-04  8104.90  8116.10  8027.30  8040.20\n",
              "2015-11-05  8030.35  8031.20  7944.10  7955.45\n",
              "2015-11-06  7956.55  8002.65  7926.15  7954.30"
            ]
          },
          "metadata": {
            "tags": []
          },
          "execution_count": 66
        }
      ]
    },
    {
      "cell_type": "code",
      "metadata": {
        "id": "PZBhF3gBDPDO"
      },
      "source": [
        "!pip install -q pyramid-arima"
      ],
      "execution_count": null,
      "outputs": []
    },
    {
      "cell_type": "code",
      "metadata": {
        "id": "6yLY-itWC3AT",
        "colab": {
          "base_uri": "https://localhost:8080/",
          "height": 386
        },
        "outputId": "afb64789-ac88-4db2-8995-c4a1ec389d6c"
      },
      "source": [
        "from pyramid.arima import auto_arima\n",
        "auto_arima(df['Close'], seasonal=True, m=12,max_p=7, max_d=5,max_q=7, max_P=4, max_D=4,max_Q=4).summary()"
      ],
      "execution_count": null,
      "outputs": [
        {
          "output_type": "execute_result",
          "data": {
            "text/html": [
              "<table class=\"simpletable\">\n",
              "<caption>Statespace Model Results</caption>\n",
              "<tr>\n",
              "  <th>Dep. Variable:</th>           <td>y</td>        <th>  No. Observations:  </th>   <td>1007</td>   \n",
              "</tr>\n",
              "<tr>\n",
              "  <th>Model:</th>           <td>SARIMAX(0, 1, 0)</td> <th>  Log Likelihood     </th> <td>-5858.158</td>\n",
              "</tr>\n",
              "<tr>\n",
              "  <th>Date:</th>            <td>Mon, 09 Mar 2020</td> <th>  AIC                </th> <td>11720.316</td>\n",
              "</tr>\n",
              "<tr>\n",
              "  <th>Time:</th>                <td>08:14:29</td>     <th>  BIC                </th> <td>11730.143</td>\n",
              "</tr>\n",
              "<tr>\n",
              "  <th>Sample:</th>                  <td>0</td>        <th>  HQIC               </th> <td>11724.050</td>\n",
              "</tr>\n",
              "<tr>\n",
              "  <th></th>                      <td> - 1007</td>     <th>                     </th>     <td> </td>    \n",
              "</tr>\n",
              "<tr>\n",
              "  <th>Covariance Type:</th>        <td>opg</td>       <th>                     </th>     <td> </td>    \n",
              "</tr>\n",
              "</table>\n",
              "<table class=\"simpletable\">\n",
              "<tr>\n",
              "      <td></td>         <th>coef</th>     <th>std err</th>      <th>z</th>      <th>P>|z|</th>  <th>[0.025</th>    <th>0.975]</th>  \n",
              "</tr>\n",
              "<tr>\n",
              "  <th>intercept</th> <td>    3.9793</td> <td>    2.692</td> <td>    1.478</td> <td> 0.139</td> <td>   -1.298</td> <td>    9.256</td>\n",
              "</tr>\n",
              "<tr>\n",
              "  <th>sigma2</th>    <td> 6691.2768</td> <td>  111.372</td> <td>   60.080</td> <td> 0.000</td> <td> 6472.991</td> <td> 6909.563</td>\n",
              "</tr>\n",
              "</table>\n",
              "<table class=\"simpletable\">\n",
              "<tr>\n",
              "  <th>Ljung-Box (Q):</th>          <td>63.22</td> <th>  Jarque-Bera (JB):  </th> <td>8017.30</td>\n",
              "</tr>\n",
              "<tr>\n",
              "  <th>Prob(Q):</th>                <td>0.01</td>  <th>  Prob(JB):          </th>  <td>0.00</td>  \n",
              "</tr>\n",
              "<tr>\n",
              "  <th>Heteroskedasticity (H):</th> <td>2.25</td>  <th>  Skew:              </th>  <td>1.14</td>  \n",
              "</tr>\n",
              "<tr>\n",
              "  <th>Prob(H) (two-sided):</th>    <td>0.00</td>  <th>  Kurtosis:          </th>  <td>16.64</td> \n",
              "</tr>\n",
              "</table><br/><br/>Warnings:<br/>[1] Covariance matrix calculated using the outer product of gradients (complex-step)."
            ],
            "text/plain": [
              "<class 'statsmodels.iolib.summary.Summary'>\n",
              "\"\"\"\n",
              "                           Statespace Model Results                           \n",
              "==============================================================================\n",
              "Dep. Variable:                      y   No. Observations:                 1007\n",
              "Model:               SARIMAX(0, 1, 0)   Log Likelihood               -5858.158\n",
              "Date:                Mon, 09 Mar 2020   AIC                          11720.316\n",
              "Time:                        08:14:29   BIC                          11730.143\n",
              "Sample:                             0   HQIC                         11724.050\n",
              "                               - 1007                                         \n",
              "Covariance Type:                  opg                                         \n",
              "==============================================================================\n",
              "                 coef    std err          z      P>|z|      [0.025      0.975]\n",
              "------------------------------------------------------------------------------\n",
              "intercept      3.9793      2.692      1.478      0.139      -1.298       9.256\n",
              "sigma2      6691.2768    111.372     60.080      0.000    6472.991    6909.563\n",
              "===================================================================================\n",
              "Ljung-Box (Q):                       63.22   Jarque-Bera (JB):              8017.30\n",
              "Prob(Q):                              0.01   Prob(JB):                         0.00\n",
              "Heteroskedasticity (H):               2.25   Skew:                             1.14\n",
              "Prob(H) (two-sided):                  0.00   Kurtosis:                        16.64\n",
              "===================================================================================\n",
              "\n",
              "Warnings:\n",
              "[1] Covariance matrix calculated using the outer product of gradients (complex-step).\n",
              "\"\"\""
            ]
          },
          "metadata": {
            "tags": []
          },
          "execution_count": 68
        }
      ]
    },
    {
      "cell_type": "code",
      "metadata": {
        "id": "mk6LhKQPDK5z",
        "colab": {
          "base_uri": "https://localhost:8080/",
          "height": 566
        },
        "outputId": "f1b54619-dfef-4802-93dd-f0dc3bc7921f"
      },
      "source": [
        "train_data = df[:len(df)-12]\n",
        "test_data = df[len(df)-12:]\n",
        "arima_model = SARIMAX(train_data['Close'], order = (2,1,1), seasonal_order = (4,0,3,12))\n",
        "arima_result = arima_model.fit()\n",
        "arima_result.summary()"
      ],
      "execution_count": null,
      "outputs": [
        {
          "output_type": "execute_result",
          "data": {
            "text/html": [
              "<table class=\"simpletable\">\n",
              "<caption>Statespace Model Results</caption>\n",
              "<tr>\n",
              "  <th>Dep. Variable:</th>                <td>Close</td>             <th>  No. Observations:  </th>    <td>995</td>   \n",
              "</tr>\n",
              "<tr>\n",
              "  <th>Model:</th>           <td>SARIMAX(2, 1, 1)x(4, 0, 3, 12)</td> <th>  Log Likelihood     </th> <td>-5784.248</td>\n",
              "</tr>\n",
              "<tr>\n",
              "  <th>Date:</th>                   <td>Mon, 09 Mar 2020</td>        <th>  AIC                </th> <td>11590.496</td>\n",
              "</tr>\n",
              "<tr>\n",
              "  <th>Time:</th>                       <td>08:16:07</td>            <th>  BIC                </th> <td>11644.416</td>\n",
              "</tr>\n",
              "<tr>\n",
              "  <th>Sample:</th>                         <td>0</td>               <th>  HQIC               </th> <td>11610.995</td>\n",
              "</tr>\n",
              "<tr>\n",
              "  <th></th>                             <td> - 995</td>             <th>                     </th>     <td> </td>    \n",
              "</tr>\n",
              "<tr>\n",
              "  <th>Covariance Type:</th>               <td>opg</td>              <th>                     </th>     <td> </td>    \n",
              "</tr>\n",
              "</table>\n",
              "<table class=\"simpletable\">\n",
              "<tr>\n",
              "      <td></td>        <th>coef</th>     <th>std err</th>      <th>z</th>      <th>P>|z|</th>  <th>[0.025</th>    <th>0.975]</th>  \n",
              "</tr>\n",
              "<tr>\n",
              "  <th>ar.L1</th>    <td>    0.0318</td> <td>    0.709</td> <td>    0.045</td> <td> 0.964</td> <td>   -1.357</td> <td>    1.421</td>\n",
              "</tr>\n",
              "<tr>\n",
              "  <th>ar.L2</th>    <td>    0.0482</td> <td>    0.031</td> <td>    1.547</td> <td> 0.122</td> <td>   -0.013</td> <td>    0.109</td>\n",
              "</tr>\n",
              "<tr>\n",
              "  <th>ma.L1</th>    <td>   -0.0342</td> <td>    0.710</td> <td>   -0.048</td> <td> 0.962</td> <td>   -1.425</td> <td>    1.357</td>\n",
              "</tr>\n",
              "<tr>\n",
              "  <th>ar.S.L12</th> <td>    0.2023</td> <td>    0.470</td> <td>    0.431</td> <td> 0.667</td> <td>   -0.718</td> <td>    1.123</td>\n",
              "</tr>\n",
              "<tr>\n",
              "  <th>ar.S.L24</th> <td>   -0.5478</td> <td>    0.258</td> <td>   -2.120</td> <td> 0.034</td> <td>   -1.054</td> <td>   -0.041</td>\n",
              "</tr>\n",
              "<tr>\n",
              "  <th>ar.S.L36</th> <td>    0.6726</td> <td>    0.443</td> <td>    1.517</td> <td> 0.129</td> <td>   -0.196</td> <td>    1.542</td>\n",
              "</tr>\n",
              "<tr>\n",
              "  <th>ar.S.L48</th> <td>   -0.0254</td> <td>    0.044</td> <td>   -0.581</td> <td> 0.561</td> <td>   -0.111</td> <td>    0.060</td>\n",
              "</tr>\n",
              "<tr>\n",
              "  <th>ma.S.L12</th> <td>   -0.1984</td> <td>    0.472</td> <td>   -0.421</td> <td> 0.674</td> <td>   -1.123</td> <td>    0.726</td>\n",
              "</tr>\n",
              "<tr>\n",
              "  <th>ma.S.L24</th> <td>    0.5570</td> <td>    0.245</td> <td>    2.277</td> <td> 0.023</td> <td>    0.077</td> <td>    1.036</td>\n",
              "</tr>\n",
              "<tr>\n",
              "  <th>ma.S.L36</th> <td>   -0.7176</td> <td>    0.452</td> <td>   -1.589</td> <td> 0.112</td> <td>   -1.603</td> <td>    0.168</td>\n",
              "</tr>\n",
              "<tr>\n",
              "  <th>sigma2</th>   <td> 6683.1352</td> <td>  191.253</td> <td>   34.944</td> <td> 0.000</td> <td> 6308.286</td> <td> 7057.984</td>\n",
              "</tr>\n",
              "</table>\n",
              "<table class=\"simpletable\">\n",
              "<tr>\n",
              "  <th>Ljung-Box (Q):</th>          <td>57.52</td> <th>  Jarque-Bera (JB):  </th> <td>7967.12</td>\n",
              "</tr>\n",
              "<tr>\n",
              "  <th>Prob(Q):</th>                <td>0.04</td>  <th>  Prob(JB):          </th>  <td>0.00</td>  \n",
              "</tr>\n",
              "<tr>\n",
              "  <th>Heteroskedasticity (H):</th> <td>2.20</td>  <th>  Skew:              </th>  <td>1.14</td>  \n",
              "</tr>\n",
              "<tr>\n",
              "  <th>Prob(H) (two-sided):</th>    <td>0.00</td>  <th>  Kurtosis:          </th>  <td>16.68</td> \n",
              "</tr>\n",
              "</table><br/><br/>Warnings:<br/>[1] Covariance matrix calculated using the outer product of gradients (complex-step)."
            ],
            "text/plain": [
              "<class 'statsmodels.iolib.summary.Summary'>\n",
              "\"\"\"\n",
              "                                 Statespace Model Results                                 \n",
              "==========================================================================================\n",
              "Dep. Variable:                              Close   No. Observations:                  995\n",
              "Model:             SARIMAX(2, 1, 1)x(4, 0, 3, 12)   Log Likelihood               -5784.248\n",
              "Date:                            Mon, 09 Mar 2020   AIC                          11590.496\n",
              "Time:                                    08:16:07   BIC                          11644.416\n",
              "Sample:                                         0   HQIC                         11610.995\n",
              "                                            - 995                                         \n",
              "Covariance Type:                              opg                                         \n",
              "==============================================================================\n",
              "                 coef    std err          z      P>|z|      [0.025      0.975]\n",
              "------------------------------------------------------------------------------\n",
              "ar.L1          0.0318      0.709      0.045      0.964      -1.357       1.421\n",
              "ar.L2          0.0482      0.031      1.547      0.122      -0.013       0.109\n",
              "ma.L1         -0.0342      0.710     -0.048      0.962      -1.425       1.357\n",
              "ar.S.L12       0.2023      0.470      0.431      0.667      -0.718       1.123\n",
              "ar.S.L24      -0.5478      0.258     -2.120      0.034      -1.054      -0.041\n",
              "ar.S.L36       0.6726      0.443      1.517      0.129      -0.196       1.542\n",
              "ar.S.L48      -0.0254      0.044     -0.581      0.561      -0.111       0.060\n",
              "ma.S.L12      -0.1984      0.472     -0.421      0.674      -1.123       0.726\n",
              "ma.S.L24       0.5570      0.245      2.277      0.023       0.077       1.036\n",
              "ma.S.L36      -0.7176      0.452     -1.589      0.112      -1.603       0.168\n",
              "sigma2      6683.1352    191.253     34.944      0.000    6308.286    7057.984\n",
              "===================================================================================\n",
              "Ljung-Box (Q):                       57.52   Jarque-Bera (JB):              7967.12\n",
              "Prob(Q):                              0.04   Prob(JB):                         0.00\n",
              "Heteroskedasticity (H):               2.20   Skew:                             1.14\n",
              "Prob(H) (two-sided):                  0.00   Kurtosis:                        16.68\n",
              "===================================================================================\n",
              "\n",
              "Warnings:\n",
              "[1] Covariance matrix calculated using the outer product of gradients (complex-step).\n",
              "\"\"\""
            ]
          },
          "metadata": {
            "tags": []
          },
          "execution_count": 69
        }
      ]
    },
    {
      "cell_type": "code",
      "metadata": {
        "id": "gDVucSLtDWD7",
        "colab": {
          "base_uri": "https://localhost:8080/",
          "height": 246
        },
        "outputId": "a0fdb361-b37d-4909-b880-3ba6ea2926ce"
      },
      "source": [
        "arima_pred = arima_result.predict(start = len(train_data), end = len(df)-1, typ=\"levels\").rename(\"ARIMA Predictions\")\n",
        "arima_pred"
      ],
      "execution_count": null,
      "outputs": [
        {
          "output_type": "execute_result",
          "data": {
            "text/plain": [
              "995     11987.585690\n",
              "996     11989.073080\n",
              "997     11994.941951\n",
              "998     11992.077809\n",
              "999     11981.435900\n",
              "1000    11995.084555\n",
              "1001    11996.429089\n",
              "1002    12003.982941\n",
              "1003    12008.562122\n",
              "1004    12005.758814\n",
              "1005    12019.831075\n",
              "1006    11987.058084\n",
              "Name: ARIMA Predictions, dtype: float64"
            ]
          },
          "metadata": {
            "tags": []
          },
          "execution_count": 70
        }
      ]
    },
    {
      "cell_type": "code",
      "metadata": {
        "id": "0LEcluwwlNhW"
      },
      "source": [
        "df = pd.DataFrame(arima_pred.as_matrix(), index=test_data.index, columns=['ARIMA_Predictions'])"
      ],
      "execution_count": null,
      "outputs": []
    },
    {
      "cell_type": "code",
      "metadata": {
        "id": "hnqkuD8XlTGI"
      },
      "source": [
        "test_data['ARIMA_Predictions']= pd.DataFrame(arima_pred.as_matrix(), index=test_data.index, columns=['ARIMA_Predictions'])"
      ],
      "execution_count": null,
      "outputs": []
    },
    {
      "cell_type": "code",
      "metadata": {
        "id": "s07S0t5LEAQO",
        "colab": {
          "base_uri": "https://localhost:8080/",
          "height": 263
        },
        "outputId": "7bdca70e-f919-44fd-9be7-484edec294a7"
      },
      "source": [
        "test_data['ARIMA_Predictions']"
      ],
      "execution_count": null,
      "outputs": [
        {
          "output_type": "execute_result",
          "data": {
            "text/plain": [
              "Date\n",
              "2019-11-21    11987.585690\n",
              "2019-11-22    11989.073080\n",
              "2019-11-25    11994.941951\n",
              "2019-11-26    11992.077809\n",
              "2019-11-27    11981.435900\n",
              "2019-11-28    11995.084555\n",
              "2019-11-29    11996.429089\n",
              "2019-12-02    12003.982941\n",
              "2019-12-06    12008.562122\n",
              "2019-12-12    12005.758814\n",
              "2019-12-13    12019.831075\n",
              "2019-12-16    11987.058084\n",
              "Name: ARIMA_Predictions, dtype: float64"
            ]
          },
          "metadata": {
            "tags": []
          },
          "execution_count": 73
        }
      ]
    },
    {
      "cell_type": "markdown",
      "metadata": {
        "id": "dt72ssdYEP4N"
      },
      "source": [
        "***PROPHET***"
      ]
    },
    {
      "cell_type": "code",
      "metadata": {
        "id": "O9UUSENYDrNs"
      },
      "source": [
        "import statsmodels.api as sm\n",
        "df = pd.read_csv(url)"
      ],
      "execution_count": null,
      "outputs": []
    },
    {
      "cell_type": "code",
      "metadata": {
        "id": "0gm0xdvoGa3S",
        "colab": {
          "base_uri": "https://localhost:8080/",
          "height": 225
        },
        "outputId": "3f0bd5af-8e4e-470a-e989-e3dff8559055"
      },
      "source": [
        "df.Month = pd.to_datetime(df.Date)\n",
        "df = df.set_index(\"Date\")\n",
        "df.head()"
      ],
      "execution_count": null,
      "outputs": [
        {
          "output_type": "execute_result",
          "data": {
            "text/html": [
              "<div>\n",
              "<style scoped>\n",
              "    .dataframe tbody tr th:only-of-type {\n",
              "        vertical-align: middle;\n",
              "    }\n",
              "\n",
              "    .dataframe tbody tr th {\n",
              "        vertical-align: top;\n",
              "    }\n",
              "\n",
              "    .dataframe thead th {\n",
              "        text-align: right;\n",
              "    }\n",
              "</style>\n",
              "<table border=\"1\" class=\"dataframe\">\n",
              "  <thead>\n",
              "    <tr style=\"text-align: right;\">\n",
              "      <th></th>\n",
              "      <th>Open</th>\n",
              "      <th>High</th>\n",
              "      <th>Low</th>\n",
              "      <th>Close</th>\n",
              "    </tr>\n",
              "    <tr>\n",
              "      <th>Date</th>\n",
              "      <th></th>\n",
              "      <th></th>\n",
              "      <th></th>\n",
              "      <th></th>\n",
              "    </tr>\n",
              "  </thead>\n",
              "  <tbody>\n",
              "    <tr>\n",
              "      <th>02-Nov-15</th>\n",
              "      <td>8054.55</td>\n",
              "      <td>8060.70</td>\n",
              "      <td>7995.60</td>\n",
              "      <td>8050.80</td>\n",
              "    </tr>\n",
              "    <tr>\n",
              "      <th>03-Nov-15</th>\n",
              "      <td>8086.35</td>\n",
              "      <td>8100.35</td>\n",
              "      <td>8031.75</td>\n",
              "      <td>8060.70</td>\n",
              "    </tr>\n",
              "    <tr>\n",
              "      <th>04-Nov-15</th>\n",
              "      <td>8104.90</td>\n",
              "      <td>8116.10</td>\n",
              "      <td>8027.30</td>\n",
              "      <td>8040.20</td>\n",
              "    </tr>\n",
              "    <tr>\n",
              "      <th>05-Nov-15</th>\n",
              "      <td>8030.35</td>\n",
              "      <td>8031.20</td>\n",
              "      <td>7944.10</td>\n",
              "      <td>7955.45</td>\n",
              "    </tr>\n",
              "    <tr>\n",
              "      <th>06-Nov-15</th>\n",
              "      <td>7956.55</td>\n",
              "      <td>8002.65</td>\n",
              "      <td>7926.15</td>\n",
              "      <td>7954.30</td>\n",
              "    </tr>\n",
              "  </tbody>\n",
              "</table>\n",
              "</div>"
            ],
            "text/plain": [
              "              Open     High      Low    Close\n",
              "Date                                         \n",
              "02-Nov-15  8054.55  8060.70  7995.60  8050.80\n",
              "03-Nov-15  8086.35  8100.35  8031.75  8060.70\n",
              "04-Nov-15  8104.90  8116.10  8027.30  8040.20\n",
              "05-Nov-15  8030.35  8031.20  7944.10  7955.45\n",
              "06-Nov-15  7956.55  8002.65  7926.15  7954.30"
            ]
          },
          "metadata": {
            "tags": []
          },
          "execution_count": 75
        }
      ]
    },
    {
      "cell_type": "code",
      "metadata": {
        "id": "PhtPqukgE25H",
        "colab": {
          "base_uri": "https://localhost:8080/",
          "height": 195
        },
        "outputId": "2fa45d03-d765-495f-cd1b-faa7ccb2ec8a"
      },
      "source": [
        "df_pr = df.copy()\n",
        "df_pr = df.reset_index()\n",
        "df_pr.head()"
      ],
      "execution_count": null,
      "outputs": [
        {
          "output_type": "execute_result",
          "data": {
            "text/html": [
              "<div>\n",
              "<style scoped>\n",
              "    .dataframe tbody tr th:only-of-type {\n",
              "        vertical-align: middle;\n",
              "    }\n",
              "\n",
              "    .dataframe tbody tr th {\n",
              "        vertical-align: top;\n",
              "    }\n",
              "\n",
              "    .dataframe thead th {\n",
              "        text-align: right;\n",
              "    }\n",
              "</style>\n",
              "<table border=\"1\" class=\"dataframe\">\n",
              "  <thead>\n",
              "    <tr style=\"text-align: right;\">\n",
              "      <th></th>\n",
              "      <th>Date</th>\n",
              "      <th>Open</th>\n",
              "      <th>High</th>\n",
              "      <th>Low</th>\n",
              "      <th>Close</th>\n",
              "    </tr>\n",
              "  </thead>\n",
              "  <tbody>\n",
              "    <tr>\n",
              "      <th>0</th>\n",
              "      <td>02-Nov-15</td>\n",
              "      <td>8054.55</td>\n",
              "      <td>8060.70</td>\n",
              "      <td>7995.60</td>\n",
              "      <td>8050.80</td>\n",
              "    </tr>\n",
              "    <tr>\n",
              "      <th>1</th>\n",
              "      <td>03-Nov-15</td>\n",
              "      <td>8086.35</td>\n",
              "      <td>8100.35</td>\n",
              "      <td>8031.75</td>\n",
              "      <td>8060.70</td>\n",
              "    </tr>\n",
              "    <tr>\n",
              "      <th>2</th>\n",
              "      <td>04-Nov-15</td>\n",
              "      <td>8104.90</td>\n",
              "      <td>8116.10</td>\n",
              "      <td>8027.30</td>\n",
              "      <td>8040.20</td>\n",
              "    </tr>\n",
              "    <tr>\n",
              "      <th>3</th>\n",
              "      <td>05-Nov-15</td>\n",
              "      <td>8030.35</td>\n",
              "      <td>8031.20</td>\n",
              "      <td>7944.10</td>\n",
              "      <td>7955.45</td>\n",
              "    </tr>\n",
              "    <tr>\n",
              "      <th>4</th>\n",
              "      <td>06-Nov-15</td>\n",
              "      <td>7956.55</td>\n",
              "      <td>8002.65</td>\n",
              "      <td>7926.15</td>\n",
              "      <td>7954.30</td>\n",
              "    </tr>\n",
              "  </tbody>\n",
              "</table>\n",
              "</div>"
            ],
            "text/plain": [
              "        Date     Open     High      Low    Close\n",
              "0  02-Nov-15  8054.55  8060.70  7995.60  8050.80\n",
              "1  03-Nov-15  8086.35  8100.35  8031.75  8060.70\n",
              "2  04-Nov-15  8104.90  8116.10  8027.30  8040.20\n",
              "3  05-Nov-15  8030.35  8031.20  7944.10  7955.45\n",
              "4  06-Nov-15  7956.55  8002.65  7926.15  7954.30"
            ]
          },
          "metadata": {
            "tags": []
          },
          "execution_count": 76
        }
      ]
    },
    {
      "cell_type": "code",
      "metadata": {
        "id": "fRj7YCDQFgl2"
      },
      "source": [
        "df_pr.columns = ['ds','open','high','low','y'] # To use prophet column names should be like that\\"
      ],
      "execution_count": null,
      "outputs": []
    },
    {
      "cell_type": "code",
      "metadata": {
        "id": "WSqvCrd6FKeF",
        "colab": {
          "base_uri": "https://localhost:8080/",
          "height": 34
        },
        "outputId": "75817ac9-61f2-4bc8-95d4-14d796a13eb7"
      },
      "source": [
        "rows=len(df_pr)\n",
        "rows"
      ],
      "execution_count": null,
      "outputs": [
        {
          "output_type": "execute_result",
          "data": {
            "text/plain": [
              "1007"
            ]
          },
          "metadata": {
            "tags": []
          },
          "execution_count": 78
        }
      ]
    },
    {
      "cell_type": "code",
      "metadata": {
        "id": "4GHMCsraE9l7"
      },
      "source": [
        "train_data_pr = df_pr.iloc[:rows-12]\n",
        "test_data_pr = df_pr.iloc[rows-12:]"
      ],
      "execution_count": null,
      "outputs": []
    },
    {
      "cell_type": "code",
      "metadata": {
        "id": "VjTyNsuHFHCL"
      },
      "source": [
        "from fbprophet import Prophet"
      ],
      "execution_count": null,
      "outputs": []
    },
    {
      "cell_type": "code",
      "metadata": {
        "id": "fTvbmt-1FNtr",
        "colab": {
          "base_uri": "https://localhost:8080/",
          "height": 34
        },
        "outputId": "67616d85-b131-402c-94d8-b80e3c588926"
      },
      "source": [
        "m = Prophet()\n",
        "m.fit(train_data_pr)\n",
        "future = m.make_future_dataframe(periods=12,freq='MS')\n",
        "prophet_pred = m.predict(future)"
      ],
      "execution_count": null,
      "outputs": [
        {
          "output_type": "stream",
          "text": [
            "INFO:fbprophet:Disabling daily seasonality. Run prophet with daily_seasonality=True to override this.\n"
          ],
          "name": "stderr"
        }
      ]
    },
    {
      "cell_type": "code",
      "metadata": {
        "id": "VzTKYbCTFcPD"
      },
      "source": [
        "prophet_pred = pd.DataFrame({\"Date\" : prophet_pred[-12:]['ds'], \"Pred\" : prophet_pred[-12:][\"yhat\"]})"
      ],
      "execution_count": null,
      "outputs": []
    },
    {
      "cell_type": "code",
      "metadata": {
        "id": "5B9BOiK_Gwar"
      },
      "source": [
        "prophet_pred = prophet_pred.set_index(\"Date\")"
      ],
      "execution_count": null,
      "outputs": []
    },
    {
      "cell_type": "code",
      "metadata": {
        "id": "08Hmih-MGzFj"
      },
      "source": [
        "prophet_pred.index.freq = \"MS\""
      ],
      "execution_count": null,
      "outputs": []
    },
    {
      "cell_type": "code",
      "metadata": {
        "id": "eFfVaKubG1bL",
        "colab": {
          "base_uri": "https://localhost:8080/",
          "height": 34
        },
        "outputId": "454347ec-f6b1-4501-8ea2-c53053add831"
      },
      "source": [
        "len(prophet_pred)"
      ],
      "execution_count": null,
      "outputs": [
        {
          "output_type": "execute_result",
          "data": {
            "text/plain": [
              "12"
            ]
          },
          "metadata": {
            "tags": []
          },
          "execution_count": 85
        }
      ]
    },
    {
      "cell_type": "code",
      "metadata": {
        "id": "EPVAgsxWG3ar"
      },
      "source": [
        "test_data_pr[\"Prophet_Predictions\"] = prophet_pred['Pred'].values"
      ],
      "execution_count": null,
      "outputs": []
    },
    {
      "cell_type": "code",
      "metadata": {
        "id": "_UowNVsEFEyn",
        "colab": {
          "base_uri": "https://localhost:8080/",
          "height": 246
        },
        "outputId": "3bea9060-1885-4d7b-ffc4-035fc721117f"
      },
      "source": [
        "test_data_pr[\"Prophet_Predictions\"]"
      ],
      "execution_count": null,
      "outputs": [
        {
          "output_type": "execute_result",
          "data": {
            "text/plain": [
              "995     11574.824955\n",
              "996     11678.964589\n",
              "997     11796.095675\n",
              "998     12008.275307\n",
              "999     12246.247315\n",
              "1000    12374.080499\n",
              "1001    12504.234669\n",
              "1002    12359.005115\n",
              "1003    12258.838029\n",
              "1004    12323.461034\n",
              "1005    12225.285304\n",
              "1006    12522.411629\n",
              "Name: Prophet_Predictions, dtype: float64"
            ]
          },
          "metadata": {
            "tags": []
          },
          "execution_count": 87
        }
      ]
    },
    {
      "cell_type": "code",
      "metadata": {
        "id": "DhgEiBiNj6n4",
        "colab": {
          "base_uri": "https://localhost:8080/",
          "height": 34
        },
        "outputId": "efa113d9-33f7-4aa8-ca04-beded653c31d"
      },
      "source": [
        "\"\"\"import seaborn as sns\n",
        "plt.figure(figsize=(16,5))\n",
        "ax = sns.lineplot(x= test_data.index, y=test_data[\"Close\"])\n",
        "sns.lineplot(x=test_data.index, y = test_data[\"prophet_pred\"]);\"\"\"\n"
      ],
      "execution_count": null,
      "outputs": [
        {
          "output_type": "execute_result",
          "data": {
            "text/plain": [
              "'import seaborn as sns\\nplt.figure(figsize=(16,5))\\nax = sns.lineplot(x= test_data.index, y=test_data[\"Close\"])\\nsns.lineplot(x=test_data.index, y = test_data[\"prophet_pred\"]);'"
            ]
          },
          "metadata": {
            "tags": []
          },
          "execution_count": 88
        }
      ]
    },
    {
      "cell_type": "markdown",
      "metadata": {
        "id": "GUgtKYTkIlf1"
      },
      "source": [
        "***LSTM***"
      ]
    },
    {
      "cell_type": "code",
      "metadata": {
        "id": "dnxaX8zhIpsW"
      },
      "source": [
        "training_set = pd.read_csv(url)"
      ],
      "execution_count": null,
      "outputs": []
    },
    {
      "cell_type": "code",
      "metadata": {
        "id": "e9uYT8cjHb7S",
        "colab": {
          "base_uri": "https://localhost:8080/",
          "height": 34
        },
        "outputId": "6bb16ff8-4477-44c4-9fce-d0b8df549a9b"
      },
      "source": [
        "rows=len(training_set)\n",
        "rows"
      ],
      "execution_count": null,
      "outputs": [
        {
          "output_type": "execute_result",
          "data": {
            "text/plain": [
              "1007"
            ]
          },
          "metadata": {
            "tags": []
          },
          "execution_count": 90
        }
      ]
    },
    {
      "cell_type": "code",
      "metadata": {
        "id": "I07iprgdI8R6"
      },
      "source": [
        "training_set = training_set.iloc[:,1:2].values"
      ],
      "execution_count": null,
      "outputs": []
    },
    {
      "cell_type": "code",
      "metadata": {
        "id": "kuK_NxxxJFOi"
      },
      "source": [
        "from sklearn.preprocessing import MinMaxScaler\n",
        "sc = MinMaxScaler()\n",
        "training_set = sc.fit_transform(training_set)"
      ],
      "execution_count": null,
      "outputs": []
    },
    {
      "cell_type": "code",
      "metadata": {
        "id": "PyNZ3gy4JLkr"
      },
      "source": [
        "X_train = training_set[0:rows-1]\n",
        "y_train = training_set[1:rows]"
      ],
      "execution_count": null,
      "outputs": []
    },
    {
      "cell_type": "code",
      "metadata": {
        "id": "MDRVLcLSJN9L"
      },
      "source": [
        "X_train = np.reshape(X_train, (rows-1, 1, 1))"
      ],
      "execution_count": null,
      "outputs": []
    },
    {
      "cell_type": "code",
      "metadata": {
        "id": "aQw8hwwgJQaj"
      },
      "source": [
        "from keras.models import Sequential\n",
        "from keras.layers import Dense\n",
        "from keras.layers import LSTM"
      ],
      "execution_count": null,
      "outputs": []
    },
    {
      "cell_type": "code",
      "metadata": {
        "id": "Hm4Ic1bxJSRT"
      },
      "source": [
        "regressor = Sequential()\n",
        "regressor.add(LSTM(units = 4, activation = 'sigmoid', input_shape = (None, 1)))"
      ],
      "execution_count": null,
      "outputs": []
    },
    {
      "cell_type": "code",
      "metadata": {
        "id": "gxp-pjmuJUS7"
      },
      "source": [
        "regressor.add(Dense(units = 1))"
      ],
      "execution_count": null,
      "outputs": []
    },
    {
      "cell_type": "code",
      "metadata": {
        "id": "MlfmAHy2JWhM"
      },
      "source": [
        "regressor.compile(optimizer = 'adam', loss = 'mean_squared_error')"
      ],
      "execution_count": null,
      "outputs": []
    },
    {
      "cell_type": "code",
      "metadata": {
        "id": "89JpsiMZJZtk",
        "colab": {
          "base_uri": "https://localhost:8080/",
          "height": 1000
        },
        "outputId": "ebd4a3d9-aebb-4fb8-851a-c710b1eb0891"
      },
      "source": [
        "regressor.fit(X_train, y_train, batch_size = 32, epochs = 200)"
      ],
      "execution_count": null,
      "outputs": [
        {
          "output_type": "stream",
          "text": [
            "Epoch 1/200\n",
            "1006/1006 [==============================] - 1s 817us/step - loss: 0.9150\n",
            "Epoch 2/200\n",
            "1006/1006 [==============================] - 0s 69us/step - loss: 0.7847\n",
            "Epoch 3/200\n",
            "1006/1006 [==============================] - 0s 70us/step - loss: 0.6726\n",
            "Epoch 4/200\n",
            "1006/1006 [==============================] - 0s 79us/step - loss: 0.5756\n",
            "Epoch 5/200\n",
            "1006/1006 [==============================] - 0s 121us/step - loss: 0.4913\n",
            "Epoch 6/200\n",
            "1006/1006 [==============================] - 0s 86us/step - loss: 0.4188\n",
            "Epoch 7/200\n",
            "1006/1006 [==============================] - 0s 90us/step - loss: 0.3560\n",
            "Epoch 8/200\n",
            "1006/1006 [==============================] - 0s 79us/step - loss: 0.3024\n",
            "Epoch 9/200\n",
            "1006/1006 [==============================] - 0s 83us/step - loss: 0.2567\n",
            "Epoch 10/200\n",
            "1006/1006 [==============================] - 0s 72us/step - loss: 0.2183\n",
            "Epoch 11/200\n",
            "1006/1006 [==============================] - 0s 83us/step - loss: 0.1859\n",
            "Epoch 12/200\n",
            "1006/1006 [==============================] - 0s 83us/step - loss: 0.1592\n",
            "Epoch 13/200\n",
            "1006/1006 [==============================] - 0s 81us/step - loss: 0.1373\n",
            "Epoch 14/200\n",
            "1006/1006 [==============================] - 0s 88us/step - loss: 0.1197\n",
            "Epoch 15/200\n",
            "1006/1006 [==============================] - 0s 84us/step - loss: 0.1056\n",
            "Epoch 16/200\n",
            "1006/1006 [==============================] - 0s 82us/step - loss: 0.0947\n",
            "Epoch 17/200\n",
            "1006/1006 [==============================] - 0s 82us/step - loss: 0.0862\n",
            "Epoch 18/200\n",
            "1006/1006 [==============================] - 0s 83us/step - loss: 0.0798\n",
            "Epoch 19/200\n",
            "1006/1006 [==============================] - 0s 81us/step - loss: 0.0750\n",
            "Epoch 20/200\n",
            "1006/1006 [==============================] - 0s 80us/step - loss: 0.0714\n",
            "Epoch 21/200\n",
            "1006/1006 [==============================] - 0s 79us/step - loss: 0.0688\n",
            "Epoch 22/200\n",
            "1006/1006 [==============================] - 0s 79us/step - loss: 0.0670\n",
            "Epoch 23/200\n",
            "1006/1006 [==============================] - 0s 86us/step - loss: 0.0656\n",
            "Epoch 24/200\n",
            "1006/1006 [==============================] - 0s 85us/step - loss: 0.0646\n",
            "Epoch 25/200\n",
            "1006/1006 [==============================] - 0s 84us/step - loss: 0.0638\n",
            "Epoch 26/200\n",
            "1006/1006 [==============================] - 0s 84us/step - loss: 0.0631\n",
            "Epoch 27/200\n",
            "1006/1006 [==============================] - 0s 87us/step - loss: 0.0626\n",
            "Epoch 28/200\n",
            "1006/1006 [==============================] - 0s 83us/step - loss: 0.0621\n",
            "Epoch 29/200\n",
            "1006/1006 [==============================] - 0s 83us/step - loss: 0.0617\n",
            "Epoch 30/200\n",
            "1006/1006 [==============================] - 0s 82us/step - loss: 0.0612\n",
            "Epoch 31/200\n",
            "1006/1006 [==============================] - 0s 85us/step - loss: 0.0608\n",
            "Epoch 32/200\n",
            "1006/1006 [==============================] - 0s 86us/step - loss: 0.0604\n",
            "Epoch 33/200\n",
            "1006/1006 [==============================] - 0s 77us/step - loss: 0.0600\n",
            "Epoch 34/200\n",
            "1006/1006 [==============================] - 0s 69us/step - loss: 0.0595\n",
            "Epoch 35/200\n",
            "1006/1006 [==============================] - 0s 80us/step - loss: 0.0590\n",
            "Epoch 36/200\n",
            "1006/1006 [==============================] - 0s 81us/step - loss: 0.0586\n",
            "Epoch 37/200\n",
            "1006/1006 [==============================] - 0s 83us/step - loss: 0.0581\n",
            "Epoch 38/200\n",
            "1006/1006 [==============================] - 0s 82us/step - loss: 0.0576\n",
            "Epoch 39/200\n",
            "1006/1006 [==============================] - 0s 85us/step - loss: 0.0571\n",
            "Epoch 40/200\n",
            "1006/1006 [==============================] - 0s 82us/step - loss: 0.0566\n",
            "Epoch 41/200\n",
            "1006/1006 [==============================] - 0s 86us/step - loss: 0.0561\n",
            "Epoch 42/200\n",
            "1006/1006 [==============================] - 0s 85us/step - loss: 0.0556\n",
            "Epoch 43/200\n",
            "1006/1006 [==============================] - 0s 77us/step - loss: 0.0550\n",
            "Epoch 44/200\n",
            "1006/1006 [==============================] - 0s 76us/step - loss: 0.0545\n",
            "Epoch 45/200\n",
            "1006/1006 [==============================] - 0s 71us/step - loss: 0.0539\n",
            "Epoch 46/200\n",
            "1006/1006 [==============================] - 0s 67us/step - loss: 0.0533\n",
            "Epoch 47/200\n",
            "1006/1006 [==============================] - 0s 70us/step - loss: 0.0527\n",
            "Epoch 48/200\n",
            "1006/1006 [==============================] - 0s 69us/step - loss: 0.0522\n",
            "Epoch 49/200\n",
            "1006/1006 [==============================] - 0s 72us/step - loss: 0.0515\n",
            "Epoch 50/200\n",
            "1006/1006 [==============================] - 0s 68us/step - loss: 0.0509\n",
            "Epoch 51/200\n",
            "1006/1006 [==============================] - 0s 69us/step - loss: 0.0502\n",
            "Epoch 52/200\n",
            "1006/1006 [==============================] - 0s 87us/step - loss: 0.0496\n",
            "Epoch 53/200\n",
            "1006/1006 [==============================] - 0s 83us/step - loss: 0.0489\n",
            "Epoch 54/200\n",
            "1006/1006 [==============================] - 0s 83us/step - loss: 0.0482\n",
            "Epoch 55/200\n",
            "1006/1006 [==============================] - 0s 76us/step - loss: 0.0476\n",
            "Epoch 56/200\n",
            "1006/1006 [==============================] - 0s 80us/step - loss: 0.0469\n",
            "Epoch 57/200\n",
            "1006/1006 [==============================] - 0s 72us/step - loss: 0.0461\n",
            "Epoch 58/200\n",
            "1006/1006 [==============================] - 0s 72us/step - loss: 0.0454\n",
            "Epoch 59/200\n",
            "1006/1006 [==============================] - 0s 85us/step - loss: 0.0447\n",
            "Epoch 60/200\n",
            "1006/1006 [==============================] - 0s 88us/step - loss: 0.0439\n",
            "Epoch 61/200\n",
            "1006/1006 [==============================] - 0s 86us/step - loss: 0.0431\n",
            "Epoch 62/200\n",
            "1006/1006 [==============================] - 0s 84us/step - loss: 0.0423\n",
            "Epoch 63/200\n",
            "1006/1006 [==============================] - 0s 83us/step - loss: 0.0415\n",
            "Epoch 64/200\n",
            "1006/1006 [==============================] - 0s 92us/step - loss: 0.0407\n",
            "Epoch 65/200\n",
            "1006/1006 [==============================] - 0s 81us/step - loss: 0.0399\n",
            "Epoch 66/200\n",
            "1006/1006 [==============================] - 0s 88us/step - loss: 0.0390\n",
            "Epoch 67/200\n",
            "1006/1006 [==============================] - 0s 87us/step - loss: 0.0381\n",
            "Epoch 68/200\n",
            "1006/1006 [==============================] - 0s 75us/step - loss: 0.0373\n",
            "Epoch 69/200\n",
            "1006/1006 [==============================] - 0s 82us/step - loss: 0.0364\n",
            "Epoch 70/200\n",
            "1006/1006 [==============================] - 0s 74us/step - loss: 0.0355\n",
            "Epoch 71/200\n",
            "1006/1006 [==============================] - 0s 67us/step - loss: 0.0345\n",
            "Epoch 72/200\n",
            "1006/1006 [==============================] - 0s 79us/step - loss: 0.0336\n",
            "Epoch 73/200\n",
            "1006/1006 [==============================] - 0s 84us/step - loss: 0.0327\n",
            "Epoch 74/200\n",
            "1006/1006 [==============================] - 0s 86us/step - loss: 0.0317\n",
            "Epoch 75/200\n",
            "1006/1006 [==============================] - 0s 86us/step - loss: 0.0308\n",
            "Epoch 76/200\n",
            "1006/1006 [==============================] - 0s 87us/step - loss: 0.0298\n",
            "Epoch 77/200\n",
            "1006/1006 [==============================] - 0s 84us/step - loss: 0.0289\n",
            "Epoch 78/200\n",
            "1006/1006 [==============================] - 0s 89us/step - loss: 0.0279\n",
            "Epoch 79/200\n",
            "1006/1006 [==============================] - 0s 84us/step - loss: 0.0269\n",
            "Epoch 80/200\n",
            "1006/1006 [==============================] - 0s 84us/step - loss: 0.0260\n",
            "Epoch 81/200\n",
            "1006/1006 [==============================] - 0s 72us/step - loss: 0.0250\n",
            "Epoch 82/200\n",
            "1006/1006 [==============================] - 0s 82us/step - loss: 0.0240\n",
            "Epoch 83/200\n",
            "1006/1006 [==============================] - 0s 84us/step - loss: 0.0230\n",
            "Epoch 84/200\n",
            "1006/1006 [==============================] - 0s 85us/step - loss: 0.0221\n",
            "Epoch 85/200\n",
            "1006/1006 [==============================] - 0s 85us/step - loss: 0.0211\n",
            "Epoch 86/200\n",
            "1006/1006 [==============================] - 0s 86us/step - loss: 0.0201\n",
            "Epoch 87/200\n",
            "1006/1006 [==============================] - 0s 89us/step - loss: 0.0192\n",
            "Epoch 88/200\n",
            "1006/1006 [==============================] - 0s 84us/step - loss: 0.0183\n",
            "Epoch 89/200\n",
            "1006/1006 [==============================] - 0s 96us/step - loss: 0.0174\n",
            "Epoch 90/200\n",
            "1006/1006 [==============================] - 0s 85us/step - loss: 0.0165\n",
            "Epoch 91/200\n",
            "1006/1006 [==============================] - 0s 85us/step - loss: 0.0157\n",
            "Epoch 92/200\n",
            "1006/1006 [==============================] - 0s 69us/step - loss: 0.0148\n",
            "Epoch 93/200\n",
            "1006/1006 [==============================] - 0s 84us/step - loss: 0.0140\n",
            "Epoch 94/200\n",
            "1006/1006 [==============================] - 0s 75us/step - loss: 0.0132\n",
            "Epoch 95/200\n",
            "1006/1006 [==============================] - 0s 80us/step - loss: 0.0124\n",
            "Epoch 96/200\n",
            "1006/1006 [==============================] - 0s 85us/step - loss: 0.0117\n",
            "Epoch 97/200\n",
            "1006/1006 [==============================] - 0s 85us/step - loss: 0.0109\n",
            "Epoch 98/200\n",
            "1006/1006 [==============================] - 0s 84us/step - loss: 0.0102\n",
            "Epoch 99/200\n",
            "1006/1006 [==============================] - 0s 84us/step - loss: 0.0095\n",
            "Epoch 100/200\n",
            "1006/1006 [==============================] - 0s 72us/step - loss: 0.0089\n",
            "Epoch 101/200\n",
            "1006/1006 [==============================] - 0s 67us/step - loss: 0.0082\n",
            "Epoch 102/200\n",
            "1006/1006 [==============================] - 0s 78us/step - loss: 0.0077\n",
            "Epoch 103/200\n",
            "1006/1006 [==============================] - 0s 91us/step - loss: 0.0071\n",
            "Epoch 104/200\n",
            "1006/1006 [==============================] - 0s 72us/step - loss: 0.0065\n",
            "Epoch 105/200\n",
            "1006/1006 [==============================] - 0s 68us/step - loss: 0.0060\n",
            "Epoch 106/200\n",
            "1006/1006 [==============================] - 0s 74us/step - loss: 0.0055\n",
            "Epoch 107/200\n",
            "1006/1006 [==============================] - 0s 76us/step - loss: 0.0051\n",
            "Epoch 108/200\n",
            "1006/1006 [==============================] - 0s 69us/step - loss: 0.0047\n",
            "Epoch 109/200\n",
            "1006/1006 [==============================] - 0s 68us/step - loss: 0.0043\n",
            "Epoch 110/200\n",
            "1006/1006 [==============================] - 0s 71us/step - loss: 0.0039\n",
            "Epoch 111/200\n",
            "1006/1006 [==============================] - 0s 70us/step - loss: 0.0035\n",
            "Epoch 112/200\n",
            "1006/1006 [==============================] - 0s 68us/step - loss: 0.0032\n",
            "Epoch 113/200\n",
            "1006/1006 [==============================] - 0s 67us/step - loss: 0.0029\n",
            "Epoch 114/200\n",
            "1006/1006 [==============================] - 0s 71us/step - loss: 0.0026\n",
            "Epoch 115/200\n",
            "1006/1006 [==============================] - 0s 69us/step - loss: 0.0024\n",
            "Epoch 116/200\n",
            "1006/1006 [==============================] - 0s 70us/step - loss: 0.0022\n",
            "Epoch 117/200\n",
            "1006/1006 [==============================] - 0s 87us/step - loss: 0.0019\n",
            "Epoch 118/200\n",
            "1006/1006 [==============================] - 0s 69us/step - loss: 0.0018\n",
            "Epoch 119/200\n",
            "1006/1006 [==============================] - 0s 70us/step - loss: 0.0016\n",
            "Epoch 120/200\n",
            "1006/1006 [==============================] - 0s 72us/step - loss: 0.0014\n",
            "Epoch 121/200\n",
            "1006/1006 [==============================] - 0s 86us/step - loss: 0.0013\n",
            "Epoch 122/200\n",
            "1006/1006 [==============================] - 0s 85us/step - loss: 0.0012\n",
            "Epoch 123/200\n",
            "1006/1006 [==============================] - 0s 87us/step - loss: 0.0011\n",
            "Epoch 124/200\n",
            "1006/1006 [==============================] - 0s 86us/step - loss: 9.5333e-04\n",
            "Epoch 125/200\n",
            "1006/1006 [==============================] - 0s 84us/step - loss: 8.6536e-04\n",
            "Epoch 126/200\n",
            "1006/1006 [==============================] - 0s 83us/step - loss: 7.8945e-04\n",
            "Epoch 127/200\n",
            "1006/1006 [==============================] - 0s 84us/step - loss: 7.2291e-04\n",
            "Epoch 128/200\n",
            "1006/1006 [==============================] - 0s 84us/step - loss: 6.6380e-04\n",
            "Epoch 129/200\n",
            "1006/1006 [==============================] - 0s 89us/step - loss: 6.1186e-04\n",
            "Epoch 130/200\n",
            "1006/1006 [==============================] - 0s 82us/step - loss: 5.6682e-04\n",
            "Epoch 131/200\n",
            "1006/1006 [==============================] - 0s 72us/step - loss: 5.2867e-04\n",
            "Epoch 132/200\n",
            "1006/1006 [==============================] - 0s 82us/step - loss: 4.9608e-04\n",
            "Epoch 133/200\n",
            "1006/1006 [==============================] - 0s 86us/step - loss: 4.6745e-04\n",
            "Epoch 134/200\n",
            "1006/1006 [==============================] - 0s 85us/step - loss: 4.4355e-04\n",
            "Epoch 135/200\n",
            "1006/1006 [==============================] - 0s 85us/step - loss: 4.2257e-04\n",
            "Epoch 136/200\n",
            "1006/1006 [==============================] - 0s 92us/step - loss: 4.0473e-04\n",
            "Epoch 137/200\n",
            "1006/1006 [==============================] - 0s 85us/step - loss: 3.9011e-04\n",
            "Epoch 138/200\n",
            "1006/1006 [==============================] - 0s 84us/step - loss: 3.7765e-04\n",
            "Epoch 139/200\n",
            "1006/1006 [==============================] - 0s 84us/step - loss: 3.6714e-04\n",
            "Epoch 140/200\n",
            "1006/1006 [==============================] - 0s 86us/step - loss: 3.5823e-04\n",
            "Epoch 141/200\n",
            "1006/1006 [==============================] - 0s 78us/step - loss: 3.5144e-04\n",
            "Epoch 142/200\n",
            "1006/1006 [==============================] - 0s 77us/step - loss: 3.4483e-04\n",
            "Epoch 143/200\n",
            "1006/1006 [==============================] - 0s 68us/step - loss: 3.3990e-04\n",
            "Epoch 144/200\n",
            "1006/1006 [==============================] - 0s 67us/step - loss: 3.3608e-04\n",
            "Epoch 145/200\n",
            "1006/1006 [==============================] - 0s 67us/step - loss: 3.3239e-04\n",
            "Epoch 146/200\n",
            "1006/1006 [==============================] - 0s 82us/step - loss: 3.3069e-04\n",
            "Epoch 147/200\n",
            "1006/1006 [==============================] - 0s 73us/step - loss: 3.2697e-04\n",
            "Epoch 148/200\n",
            "1006/1006 [==============================] - 0s 71us/step - loss: 3.2573e-04\n",
            "Epoch 149/200\n",
            "1006/1006 [==============================] - 0s 86us/step - loss: 3.2381e-04\n",
            "Epoch 150/200\n",
            "1006/1006 [==============================] - 0s 86us/step - loss: 3.2278e-04\n",
            "Epoch 151/200\n",
            "1006/1006 [==============================] - 0s 83us/step - loss: 3.2123e-04\n",
            "Epoch 152/200\n",
            "1006/1006 [==============================] - 0s 83us/step - loss: 3.2012e-04\n",
            "Epoch 153/200\n",
            "1006/1006 [==============================] - 0s 85us/step - loss: 3.2005e-04\n",
            "Epoch 154/200\n",
            "1006/1006 [==============================] - 0s 84us/step - loss: 3.1944e-04\n",
            "Epoch 155/200\n",
            "1006/1006 [==============================] - 0s 76us/step - loss: 3.1822e-04\n",
            "Epoch 156/200\n",
            "1006/1006 [==============================] - 0s 76us/step - loss: 3.1864e-04\n",
            "Epoch 157/200\n",
            "1006/1006 [==============================] - 0s 67us/step - loss: 3.1842e-04\n",
            "Epoch 158/200\n",
            "1006/1006 [==============================] - 0s 68us/step - loss: 3.1774e-04\n",
            "Epoch 159/200\n",
            "1006/1006 [==============================] - 0s 77us/step - loss: 3.1710e-04\n",
            "Epoch 160/200\n",
            "1006/1006 [==============================] - 0s 83us/step - loss: 3.1693e-04\n",
            "Epoch 161/200\n",
            "1006/1006 [==============================] - 0s 85us/step - loss: 3.1599e-04\n",
            "Epoch 162/200\n",
            "1006/1006 [==============================] - 0s 85us/step - loss: 3.1623e-04\n",
            "Epoch 163/200\n",
            "1006/1006 [==============================] - 0s 83us/step - loss: 3.1525e-04\n",
            "Epoch 164/200\n",
            "1006/1006 [==============================] - 0s 88us/step - loss: 3.1547e-04\n",
            "Epoch 165/200\n",
            "1006/1006 [==============================] - 0s 84us/step - loss: 3.1550e-04\n",
            "Epoch 166/200\n",
            "1006/1006 [==============================] - 0s 76us/step - loss: 3.1555e-04\n",
            "Epoch 167/200\n",
            "1006/1006 [==============================] - 0s 68us/step - loss: 3.1594e-04\n",
            "Epoch 168/200\n",
            "1006/1006 [==============================] - 0s 73us/step - loss: 3.1569e-04\n",
            "Epoch 169/200\n",
            "1006/1006 [==============================] - 0s 70us/step - loss: 3.1498e-04\n",
            "Epoch 170/200\n",
            "1006/1006 [==============================] - 0s 74us/step - loss: 3.1431e-04\n",
            "Epoch 171/200\n",
            "1006/1006 [==============================] - 0s 71us/step - loss: 3.1507e-04\n",
            "Epoch 172/200\n",
            "1006/1006 [==============================] - 0s 74us/step - loss: 3.1570e-04\n",
            "Epoch 173/200\n",
            "1006/1006 [==============================] - 0s 69us/step - loss: 3.1442e-04\n",
            "Epoch 174/200\n",
            "1006/1006 [==============================] - 0s 73us/step - loss: 3.1365e-04\n",
            "Epoch 175/200\n",
            "1006/1006 [==============================] - 0s 69us/step - loss: 3.1372e-04\n",
            "Epoch 176/200\n",
            "1006/1006 [==============================] - 0s 67us/step - loss: 3.1437e-04\n",
            "Epoch 177/200\n",
            "1006/1006 [==============================] - 0s 85us/step - loss: 3.1341e-04\n",
            "Epoch 178/200\n",
            "1006/1006 [==============================] - 0s 93us/step - loss: 3.1356e-04\n",
            "Epoch 179/200\n",
            "1006/1006 [==============================] - 0s 87us/step - loss: 3.1286e-04\n",
            "Epoch 180/200\n",
            "1006/1006 [==============================] - 0s 72us/step - loss: 3.1270e-04\n",
            "Epoch 181/200\n",
            "1006/1006 [==============================] - 0s 69us/step - loss: 3.1193e-04\n",
            "Epoch 182/200\n",
            "1006/1006 [==============================] - 0s 84us/step - loss: 3.1226e-04\n",
            "Epoch 183/200\n",
            "1006/1006 [==============================] - 0s 70us/step - loss: 3.1172e-04\n",
            "Epoch 184/200\n",
            "1006/1006 [==============================] - 0s 72us/step - loss: 3.1390e-04\n",
            "Epoch 185/200\n",
            "1006/1006 [==============================] - 0s 67us/step - loss: 3.1153e-04\n",
            "Epoch 186/200\n",
            "1006/1006 [==============================] - 0s 72us/step - loss: 3.1287e-04\n",
            "Epoch 187/200\n",
            "1006/1006 [==============================] - 0s 87us/step - loss: 3.1117e-04\n",
            "Epoch 188/200\n",
            "1006/1006 [==============================] - 0s 76us/step - loss: 3.1029e-04\n",
            "Epoch 189/200\n",
            "1006/1006 [==============================] - 0s 70us/step - loss: 3.1092e-04\n",
            "Epoch 190/200\n",
            "1006/1006 [==============================] - 0s 71us/step - loss: 3.1017e-04\n",
            "Epoch 191/200\n",
            "1006/1006 [==============================] - 0s 89us/step - loss: 3.1072e-04\n",
            "Epoch 192/200\n",
            "1006/1006 [==============================] - 0s 84us/step - loss: 3.1064e-04\n",
            "Epoch 193/200\n",
            "1006/1006 [==============================] - 0s 79us/step - loss: 3.0888e-04\n",
            "Epoch 194/200\n",
            "1006/1006 [==============================] - 0s 82us/step - loss: 3.0892e-04\n",
            "Epoch 195/200\n",
            "1006/1006 [==============================] - 0s 69us/step - loss: 3.0840e-04\n",
            "Epoch 196/200\n",
            "1006/1006 [==============================] - 0s 79us/step - loss: 3.0792e-04\n",
            "Epoch 197/200\n",
            "1006/1006 [==============================] - 0s 83us/step - loss: 3.0723e-04\n",
            "Epoch 198/200\n",
            "1006/1006 [==============================] - 0s 87us/step - loss: 3.0708e-04\n",
            "Epoch 199/200\n",
            "1006/1006 [==============================] - 0s 86us/step - loss: 3.0778e-04\n",
            "Epoch 200/200\n",
            "1006/1006 [==============================] - 0s 83us/step - loss: 3.0698e-04\n"
          ],
          "name": "stdout"
        },
        {
          "output_type": "execute_result",
          "data": {
            "text/plain": [
              "<keras.callbacks.History at 0x7f6ef7855630>"
            ]
          },
          "metadata": {
            "tags": []
          },
          "execution_count": 99
        }
      ]
    },
    {
      "cell_type": "code",
      "metadata": {
        "id": "yoxL6Np-Jld8"
      },
      "source": [
        "urltest=\"https://raw.githubusercontent.com/RonAshu/NIFTY50/master/nifty50.csv\"\n",
        "test_set = pd.read_csv(urltest)\n",
        "rows=len(test_set)\n",
        "real_stock_price = test_set.iloc[:,1:2].values\n",
        "inputs = real_stock_price\n",
        "inputs = sc.transform(inputs)\n",
        "inputs = np.reshape(inputs, (rows, 1, 1))"
      ],
      "execution_count": null,
      "outputs": []
    },
    {
      "cell_type": "code",
      "metadata": {
        "id": "D_vP3VJuJoPL"
      },
      "source": [
        "predicted_lstm_price = regressor.predict(inputs)\n",
        "predicted_lstm_price = sc.inverse_transform(predicted_lstm_price)"
      ],
      "execution_count": null,
      "outputs": []
    },
    {
      "cell_type": "code",
      "metadata": {
        "id": "zzxfxytkJuSj",
        "colab": {
          "base_uri": "https://localhost:8080/",
          "height": 140
        },
        "outputId": "652bf28c-f802-4435-b87f-82b11c0f5d05"
      },
      "source": [
        "predicted_lstm_price"
      ],
      "execution_count": null,
      "outputs": [
        {
          "output_type": "execute_result",
          "data": {
            "text/plain": [
              "array([[ 8053.4688],\n",
              "       [ 8083.378 ],\n",
              "       [ 8100.8574],\n",
              "       ...,\n",
              "       [11913.876 ],\n",
              "       [11975.916 ],\n",
              "       [12015.163 ]], dtype=float32)"
            ]
          },
          "metadata": {
            "tags": []
          },
          "execution_count": 102
        }
      ]
    },
    {
      "cell_type": "markdown",
      "metadata": {
        "id": "E--DQEcjROm4"
      },
      "source": [
        "***GRU***"
      ]
    },
    {
      "cell_type": "code",
      "metadata": {
        "id": "bc7bh3I7TEBc"
      },
      "source": [
        "from keras.models import Sequential\n",
        "from keras.layers import Dense\n",
        "from keras.layers import GRU"
      ],
      "execution_count": null,
      "outputs": []
    },
    {
      "cell_type": "code",
      "metadata": {
        "id": "NvSqOVgQRRbv"
      },
      "source": [
        "regressor = Sequential()\n",
        "regressor.add(GRU(units = 4, activation = 'sigmoid', input_shape = (None, 1)))"
      ],
      "execution_count": null,
      "outputs": []
    },
    {
      "cell_type": "code",
      "metadata": {
        "id": "50v1GgIAP1mU"
      },
      "source": [
        "regressor.add(Dense(units = 1))"
      ],
      "execution_count": null,
      "outputs": []
    },
    {
      "cell_type": "code",
      "metadata": {
        "id": "xsq8KYpZTHkD"
      },
      "source": [
        "regressor.compile(optimizer = 'adam', loss = 'mean_squared_error')"
      ],
      "execution_count": null,
      "outputs": []
    },
    {
      "cell_type": "code",
      "metadata": {
        "id": "qXXHTo_eTJxD",
        "colab": {
          "base_uri": "https://localhost:8080/",
          "height": 1000
        },
        "outputId": "03803244-0ddf-4ec7-c016-13452e8af20d"
      },
      "source": [
        "regressor.fit(X_train, y_train, batch_size = 32, epochs = 200)"
      ],
      "execution_count": null,
      "outputs": [
        {
          "output_type": "stream",
          "text": [
            "Epoch 1/200\n",
            "1006/1006 [==============================] - 1s 842us/step - loss: 0.1459\n",
            "Epoch 2/200\n",
            "1006/1006 [==============================] - 0s 63us/step - loss: 0.1034\n",
            "Epoch 3/200\n",
            "1006/1006 [==============================] - 0s 77us/step - loss: 0.0781\n",
            "Epoch 4/200\n",
            "1006/1006 [==============================] - 0s 73us/step - loss: 0.0655\n",
            "Epoch 5/200\n",
            "1006/1006 [==============================] - 0s 73us/step - loss: 0.0599\n",
            "Epoch 6/200\n",
            "1006/1006 [==============================] - 0s 71us/step - loss: 0.0571\n",
            "Epoch 7/200\n",
            "1006/1006 [==============================] - 0s 74us/step - loss: 0.0553\n",
            "Epoch 8/200\n",
            "1006/1006 [==============================] - 0s 73us/step - loss: 0.0537\n",
            "Epoch 9/200\n",
            "1006/1006 [==============================] - 0s 71us/step - loss: 0.0522\n",
            "Epoch 10/200\n",
            "1006/1006 [==============================] - 0s 64us/step - loss: 0.0506\n",
            "Epoch 11/200\n",
            "1006/1006 [==============================] - 0s 68us/step - loss: 0.0490\n",
            "Epoch 12/200\n",
            "1006/1006 [==============================] - 0s 62us/step - loss: 0.0473\n",
            "Epoch 13/200\n",
            "1006/1006 [==============================] - 0s 63us/step - loss: 0.0457\n",
            "Epoch 14/200\n",
            "1006/1006 [==============================] - 0s 61us/step - loss: 0.0440\n",
            "Epoch 15/200\n",
            "1006/1006 [==============================] - 0s 72us/step - loss: 0.0422\n",
            "Epoch 16/200\n",
            "1006/1006 [==============================] - 0s 78us/step - loss: 0.0405\n",
            "Epoch 17/200\n",
            "1006/1006 [==============================] - 0s 76us/step - loss: 0.0388\n",
            "Epoch 18/200\n",
            "1006/1006 [==============================] - 0s 73us/step - loss: 0.0371\n",
            "Epoch 19/200\n",
            "1006/1006 [==============================] - 0s 78us/step - loss: 0.0353\n",
            "Epoch 20/200\n",
            "1006/1006 [==============================] - 0s 78us/step - loss: 0.0336\n",
            "Epoch 21/200\n",
            "1006/1006 [==============================] - 0s 73us/step - loss: 0.0319\n",
            "Epoch 22/200\n",
            "1006/1006 [==============================] - 0s 68us/step - loss: 0.0302\n",
            "Epoch 23/200\n",
            "1006/1006 [==============================] - 0s 74us/step - loss: 0.0286\n",
            "Epoch 24/200\n",
            "1006/1006 [==============================] - 0s 64us/step - loss: 0.0269\n",
            "Epoch 25/200\n",
            "1006/1006 [==============================] - 0s 62us/step - loss: 0.0253\n",
            "Epoch 26/200\n",
            "1006/1006 [==============================] - 0s 68us/step - loss: 0.0237\n",
            "Epoch 27/200\n",
            "1006/1006 [==============================] - 0s 71us/step - loss: 0.0221\n",
            "Epoch 28/200\n",
            "1006/1006 [==============================] - 0s 58us/step - loss: 0.0206\n",
            "Epoch 29/200\n",
            "1006/1006 [==============================] - 0s 71us/step - loss: 0.0192\n",
            "Epoch 30/200\n",
            "1006/1006 [==============================] - 0s 83us/step - loss: 0.0177\n",
            "Epoch 31/200\n",
            "1006/1006 [==============================] - 0s 75us/step - loss: 0.0163\n",
            "Epoch 32/200\n",
            "1006/1006 [==============================] - 0s 76us/step - loss: 0.0150\n",
            "Epoch 33/200\n",
            "1006/1006 [==============================] - 0s 76us/step - loss: 0.0137\n",
            "Epoch 34/200\n",
            "1006/1006 [==============================] - 0s 76us/step - loss: 0.0125\n",
            "Epoch 35/200\n",
            "1006/1006 [==============================] - 0s 76us/step - loss: 0.0113\n",
            "Epoch 36/200\n",
            "1006/1006 [==============================] - 0s 73us/step - loss: 0.0103\n",
            "Epoch 37/200\n",
            "1006/1006 [==============================] - 0s 67us/step - loss: 0.0093\n",
            "Epoch 38/200\n",
            "1006/1006 [==============================] - 0s 66us/step - loss: 0.0083\n",
            "Epoch 39/200\n",
            "1006/1006 [==============================] - 0s 63us/step - loss: 0.0074\n",
            "Epoch 40/200\n",
            "1006/1006 [==============================] - 0s 65us/step - loss: 0.0066\n",
            "Epoch 41/200\n",
            "1006/1006 [==============================] - 0s 65us/step - loss: 0.0058\n",
            "Epoch 42/200\n",
            "1006/1006 [==============================] - 0s 63us/step - loss: 0.0051\n",
            "Epoch 43/200\n",
            "1006/1006 [==============================] - 0s 64us/step - loss: 0.0045\n",
            "Epoch 44/200\n",
            "1006/1006 [==============================] - 0s 76us/step - loss: 0.0039\n",
            "Epoch 45/200\n",
            "1006/1006 [==============================] - 0s 81us/step - loss: 0.0034\n",
            "Epoch 46/200\n",
            "1006/1006 [==============================] - 0s 76us/step - loss: 0.0030\n",
            "Epoch 47/200\n",
            "1006/1006 [==============================] - 0s 63us/step - loss: 0.0026\n",
            "Epoch 48/200\n",
            "1006/1006 [==============================] - 0s 62us/step - loss: 0.0022\n",
            "Epoch 49/200\n",
            "1006/1006 [==============================] - 0s 73us/step - loss: 0.0019\n",
            "Epoch 50/200\n",
            "1006/1006 [==============================] - 0s 77us/step - loss: 0.0016\n",
            "Epoch 51/200\n",
            "1006/1006 [==============================] - 0s 70us/step - loss: 0.0014\n",
            "Epoch 52/200\n",
            "1006/1006 [==============================] - 0s 68us/step - loss: 0.0012\n",
            "Epoch 53/200\n",
            "1006/1006 [==============================] - 0s 72us/step - loss: 0.0011\n",
            "Epoch 54/200\n",
            "1006/1006 [==============================] - 0s 65us/step - loss: 9.0675e-04\n",
            "Epoch 55/200\n",
            "1006/1006 [==============================] - 0s 69us/step - loss: 7.8852e-04\n",
            "Epoch 56/200\n",
            "1006/1006 [==============================] - 0s 76us/step - loss: 6.9031e-04\n",
            "Epoch 57/200\n",
            "1006/1006 [==============================] - 0s 74us/step - loss: 6.1143e-04\n",
            "Epoch 58/200\n",
            "1006/1006 [==============================] - 0s 83us/step - loss: 5.4491e-04\n",
            "Epoch 59/200\n",
            "1006/1006 [==============================] - 0s 75us/step - loss: 4.9204e-04\n",
            "Epoch 60/200\n",
            "1006/1006 [==============================] - 0s 80us/step - loss: 4.4771e-04\n",
            "Epoch 61/200\n",
            "1006/1006 [==============================] - 0s 75us/step - loss: 4.1279e-04\n",
            "Epoch 62/200\n",
            "1006/1006 [==============================] - 0s 75us/step - loss: 3.8463e-04\n",
            "Epoch 63/200\n",
            "1006/1006 [==============================] - 0s 76us/step - loss: 3.6305e-04\n",
            "Epoch 64/200\n",
            "1006/1006 [==============================] - 0s 77us/step - loss: 3.4610e-04\n",
            "Epoch 65/200\n",
            "1006/1006 [==============================] - 0s 69us/step - loss: 3.3256e-04\n",
            "Epoch 66/200\n",
            "1006/1006 [==============================] - 0s 69us/step - loss: 3.2322e-04\n",
            "Epoch 67/200\n",
            "1006/1006 [==============================] - 0s 63us/step - loss: 3.1453e-04\n",
            "Epoch 68/200\n",
            "1006/1006 [==============================] - 0s 69us/step - loss: 3.0761e-04\n",
            "Epoch 69/200\n",
            "1006/1006 [==============================] - 0s 71us/step - loss: 3.0517e-04\n",
            "Epoch 70/200\n",
            "1006/1006 [==============================] - 0s 75us/step - loss: 3.0029e-04\n",
            "Epoch 71/200\n",
            "1006/1006 [==============================] - 0s 74us/step - loss: 2.9788e-04\n",
            "Epoch 72/200\n",
            "1006/1006 [==============================] - 0s 75us/step - loss: 2.9465e-04\n",
            "Epoch 73/200\n",
            "1006/1006 [==============================] - 0s 73us/step - loss: 2.9326e-04\n",
            "Epoch 74/200\n",
            "1006/1006 [==============================] - 0s 74us/step - loss: 2.9275e-04\n",
            "Epoch 75/200\n",
            "1006/1006 [==============================] - 0s 77us/step - loss: 2.9341e-04\n",
            "Epoch 76/200\n",
            "1006/1006 [==============================] - 0s 75us/step - loss: 2.9087e-04\n",
            "Epoch 77/200\n",
            "1006/1006 [==============================] - 0s 80us/step - loss: 2.9095e-04\n",
            "Epoch 78/200\n",
            "1006/1006 [==============================] - 0s 79us/step - loss: 2.9070e-04\n",
            "Epoch 79/200\n",
            "1006/1006 [==============================] - 0s 76us/step - loss: 2.9148e-04\n",
            "Epoch 80/200\n",
            "1006/1006 [==============================] - 0s 68us/step - loss: 2.9071e-04\n",
            "Epoch 81/200\n",
            "1006/1006 [==============================] - 0s 71us/step - loss: 2.8977e-04\n",
            "Epoch 82/200\n",
            "1006/1006 [==============================] - 0s 78us/step - loss: 2.9027e-04\n",
            "Epoch 83/200\n",
            "1006/1006 [==============================] - 0s 77us/step - loss: 2.8968e-04\n",
            "Epoch 84/200\n",
            "1006/1006 [==============================] - 0s 77us/step - loss: 2.8967e-04\n",
            "Epoch 85/200\n",
            "1006/1006 [==============================] - 0s 79us/step - loss: 2.8950e-04\n",
            "Epoch 86/200\n",
            "1006/1006 [==============================] - 0s 80us/step - loss: 2.9015e-04\n",
            "Epoch 87/200\n",
            "1006/1006 [==============================] - 0s 77us/step - loss: 2.8976e-04\n",
            "Epoch 88/200\n",
            "1006/1006 [==============================] - 0s 77us/step - loss: 2.9153e-04\n",
            "Epoch 89/200\n",
            "1006/1006 [==============================] - 0s 77us/step - loss: 2.9293e-04\n",
            "Epoch 90/200\n",
            "1006/1006 [==============================] - 0s 76us/step - loss: 2.9045e-04\n",
            "Epoch 91/200\n",
            "1006/1006 [==============================] - 0s 72us/step - loss: 2.8998e-04\n",
            "Epoch 92/200\n",
            "1006/1006 [==============================] - 0s 74us/step - loss: 2.9140e-04\n",
            "Epoch 93/200\n",
            "1006/1006 [==============================] - 0s 82us/step - loss: 2.9339e-04\n",
            "Epoch 94/200\n",
            "1006/1006 [==============================] - 0s 75us/step - loss: 2.9004e-04\n",
            "Epoch 95/200\n",
            "1006/1006 [==============================] - 0s 76us/step - loss: 2.8984e-04\n",
            "Epoch 96/200\n",
            "1006/1006 [==============================] - 0s 75us/step - loss: 2.8917e-04\n",
            "Epoch 97/200\n",
            "1006/1006 [==============================] - 0s 80us/step - loss: 2.8949e-04\n",
            "Epoch 98/200\n",
            "1006/1006 [==============================] - 0s 77us/step - loss: 2.9031e-04\n",
            "Epoch 99/200\n",
            "1006/1006 [==============================] - 0s 81us/step - loss: 2.9080e-04\n",
            "Epoch 100/200\n",
            "1006/1006 [==============================] - 0s 74us/step - loss: 2.9031e-04\n",
            "Epoch 101/200\n",
            "1006/1006 [==============================] - 0s 75us/step - loss: 2.9123e-04\n",
            "Epoch 102/200\n",
            "1006/1006 [==============================] - 0s 76us/step - loss: 2.9024e-04\n",
            "Epoch 103/200\n",
            "1006/1006 [==============================] - 0s 75us/step - loss: 2.9043e-04\n",
            "Epoch 104/200\n",
            "1006/1006 [==============================] - 0s 65us/step - loss: 2.9014e-04\n",
            "Epoch 105/200\n",
            "1006/1006 [==============================] - 0s 62us/step - loss: 2.9052e-04\n",
            "Epoch 106/200\n",
            "1006/1006 [==============================] - 0s 74us/step - loss: 2.8987e-04\n",
            "Epoch 107/200\n",
            "1006/1006 [==============================] - 0s 86us/step - loss: 2.9103e-04\n",
            "Epoch 108/200\n",
            "1006/1006 [==============================] - 0s 78us/step - loss: 2.9239e-04\n",
            "Epoch 109/200\n",
            "1006/1006 [==============================] - 0s 76us/step - loss: 2.8992e-04\n",
            "Epoch 110/200\n",
            "1006/1006 [==============================] - 0s 76us/step - loss: 2.8939e-04\n",
            "Epoch 111/200\n",
            "1006/1006 [==============================] - 0s 76us/step - loss: 2.8968e-04\n",
            "Epoch 112/200\n",
            "1006/1006 [==============================] - 0s 76us/step - loss: 2.9043e-04\n",
            "Epoch 113/200\n",
            "1006/1006 [==============================] - 0s 76us/step - loss: 2.8945e-04\n",
            "Epoch 114/200\n",
            "1006/1006 [==============================] - 0s 75us/step - loss: 2.8980e-04\n",
            "Epoch 115/200\n",
            "1006/1006 [==============================] - 0s 76us/step - loss: 2.8940e-04\n",
            "Epoch 116/200\n",
            "1006/1006 [==============================] - 0s 77us/step - loss: 2.9080e-04\n",
            "Epoch 117/200\n",
            "1006/1006 [==============================] - 0s 74us/step - loss: 2.9002e-04\n",
            "Epoch 118/200\n",
            "1006/1006 [==============================] - 0s 67us/step - loss: 2.9205e-04\n",
            "Epoch 119/200\n",
            "1006/1006 [==============================] - 0s 64us/step - loss: 2.8934e-04\n",
            "Epoch 120/200\n",
            "1006/1006 [==============================] - 0s 64us/step - loss: 2.9129e-04\n",
            "Epoch 121/200\n",
            "1006/1006 [==============================] - 0s 73us/step - loss: 2.9216e-04\n",
            "Epoch 122/200\n",
            "1006/1006 [==============================] - 0s 76us/step - loss: 2.8998e-04\n",
            "Epoch 123/200\n",
            "1006/1006 [==============================] - 0s 76us/step - loss: 2.9020e-04\n",
            "Epoch 124/200\n",
            "1006/1006 [==============================] - 0s 75us/step - loss: 2.9075e-04\n",
            "Epoch 125/200\n",
            "1006/1006 [==============================] - 0s 75us/step - loss: 2.9053e-04\n",
            "Epoch 126/200\n",
            "1006/1006 [==============================] - 0s 74us/step - loss: 2.9306e-04\n",
            "Epoch 127/200\n",
            "1006/1006 [==============================] - 0s 74us/step - loss: 2.9107e-04\n",
            "Epoch 128/200\n",
            "1006/1006 [==============================] - 0s 74us/step - loss: 2.9324e-04\n",
            "Epoch 129/200\n",
            "1006/1006 [==============================] - 0s 75us/step - loss: 2.9297e-04\n",
            "Epoch 130/200\n",
            "1006/1006 [==============================] - 0s 75us/step - loss: 2.9082e-04\n",
            "Epoch 131/200\n",
            "1006/1006 [==============================] - 0s 65us/step - loss: 2.9320e-04\n",
            "Epoch 132/200\n",
            "1006/1006 [==============================] - 0s 65us/step - loss: 2.9089e-04\n",
            "Epoch 133/200\n",
            "1006/1006 [==============================] - 0s 63us/step - loss: 2.9303e-04\n",
            "Epoch 134/200\n",
            "1006/1006 [==============================] - 0s 65us/step - loss: 2.9127e-04\n",
            "Epoch 135/200\n",
            "1006/1006 [==============================] - 0s 65us/step - loss: 2.9073e-04\n",
            "Epoch 136/200\n",
            "1006/1006 [==============================] - 0s 74us/step - loss: 2.9000e-04\n",
            "Epoch 137/200\n",
            "1006/1006 [==============================] - 0s 73us/step - loss: 2.9198e-04\n",
            "Epoch 138/200\n",
            "1006/1006 [==============================] - 0s 76us/step - loss: 2.9185e-04\n",
            "Epoch 139/200\n",
            "1006/1006 [==============================] - 0s 77us/step - loss: 2.9068e-04\n",
            "Epoch 140/200\n",
            "1006/1006 [==============================] - 0s 73us/step - loss: 2.8771e-04\n",
            "Epoch 141/200\n",
            "1006/1006 [==============================] - 0s 74us/step - loss: 2.9356e-04\n",
            "Epoch 142/200\n",
            "1006/1006 [==============================] - 0s 74us/step - loss: 2.9104e-04\n",
            "Epoch 143/200\n",
            "1006/1006 [==============================] - 0s 74us/step - loss: 2.8960e-04\n",
            "Epoch 144/200\n",
            "1006/1006 [==============================] - 0s 66us/step - loss: 2.9189e-04\n",
            "Epoch 145/200\n",
            "1006/1006 [==============================] - 0s 72us/step - loss: 2.8890e-04\n",
            "Epoch 146/200\n",
            "1006/1006 [==============================] - 0s 70us/step - loss: 2.9085e-04\n",
            "Epoch 147/200\n",
            "1006/1006 [==============================] - 0s 65us/step - loss: 2.9323e-04\n",
            "Epoch 148/200\n",
            "1006/1006 [==============================] - 0s 64us/step - loss: 2.8983e-04\n",
            "Epoch 149/200\n",
            "1006/1006 [==============================] - 0s 68us/step - loss: 2.9088e-04\n",
            "Epoch 150/200\n",
            "1006/1006 [==============================] - 0s 75us/step - loss: 2.9116e-04\n",
            "Epoch 151/200\n",
            "1006/1006 [==============================] - 0s 73us/step - loss: 2.8955e-04\n",
            "Epoch 152/200\n",
            "1006/1006 [==============================] - 0s 74us/step - loss: 2.9370e-04\n",
            "Epoch 153/200\n",
            "1006/1006 [==============================] - 0s 73us/step - loss: 2.9197e-04\n",
            "Epoch 154/200\n",
            "1006/1006 [==============================] - 0s 74us/step - loss: 2.9008e-04\n",
            "Epoch 155/200\n",
            "1006/1006 [==============================] - 0s 77us/step - loss: 2.9188e-04\n",
            "Epoch 156/200\n",
            "1006/1006 [==============================] - 0s 75us/step - loss: 2.8937e-04\n",
            "Epoch 157/200\n",
            "1006/1006 [==============================] - 0s 74us/step - loss: 2.9329e-04\n",
            "Epoch 158/200\n",
            "1006/1006 [==============================] - 0s 61us/step - loss: 2.9437e-04\n",
            "Epoch 159/200\n",
            "1006/1006 [==============================] - 0s 64us/step - loss: 2.9745e-04\n",
            "Epoch 160/200\n",
            "1006/1006 [==============================] - 0s 63us/step - loss: 2.9519e-04\n",
            "Epoch 161/200\n",
            "1006/1006 [==============================] - 0s 61us/step - loss: 2.9530e-04\n",
            "Epoch 162/200\n",
            "1006/1006 [==============================] - 0s 61us/step - loss: 2.9136e-04\n",
            "Epoch 163/200\n",
            "1006/1006 [==============================] - 0s 62us/step - loss: 2.9176e-04\n",
            "Epoch 164/200\n",
            "1006/1006 [==============================] - 0s 70us/step - loss: 2.8978e-04\n",
            "Epoch 165/200\n",
            "1006/1006 [==============================] - 0s 70us/step - loss: 2.9296e-04\n",
            "Epoch 166/200\n",
            "1006/1006 [==============================] - 0s 78us/step - loss: 2.9316e-04\n",
            "Epoch 167/200\n",
            "1006/1006 [==============================] - 0s 75us/step - loss: 2.9554e-04\n",
            "Epoch 168/200\n",
            "1006/1006 [==============================] - 0s 75us/step - loss: 2.9380e-04\n",
            "Epoch 169/200\n",
            "1006/1006 [==============================] - 0s 74us/step - loss: 2.9030e-04\n",
            "Epoch 170/200\n",
            "1006/1006 [==============================] - 0s 69us/step - loss: 2.9281e-04\n",
            "Epoch 171/200\n",
            "1006/1006 [==============================] - 0s 65us/step - loss: 2.9332e-04\n",
            "Epoch 172/200\n",
            "1006/1006 [==============================] - 0s 67us/step - loss: 2.9275e-04\n",
            "Epoch 173/200\n",
            "1006/1006 [==============================] - 0s 71us/step - loss: 2.9062e-04\n",
            "Epoch 174/200\n",
            "1006/1006 [==============================] - 0s 73us/step - loss: 2.9216e-04\n",
            "Epoch 175/200\n",
            "1006/1006 [==============================] - 0s 78us/step - loss: 2.9132e-04\n",
            "Epoch 176/200\n",
            "1006/1006 [==============================] - 0s 80us/step - loss: 2.9013e-04\n",
            "Epoch 177/200\n",
            "1006/1006 [==============================] - 0s 87us/step - loss: 2.9218e-04\n",
            "Epoch 178/200\n",
            "1006/1006 [==============================] - 0s 75us/step - loss: 2.9027e-04\n",
            "Epoch 179/200\n",
            "1006/1006 [==============================] - 0s 76us/step - loss: 2.9061e-04\n",
            "Epoch 180/200\n",
            "1006/1006 [==============================] - 0s 76us/step - loss: 2.9299e-04\n",
            "Epoch 181/200\n",
            "1006/1006 [==============================] - 0s 77us/step - loss: 2.9274e-04\n",
            "Epoch 182/200\n",
            "1006/1006 [==============================] - 0s 77us/step - loss: 2.8998e-04\n",
            "Epoch 183/200\n",
            "1006/1006 [==============================] - 0s 82us/step - loss: 2.9083e-04\n",
            "Epoch 184/200\n",
            "1006/1006 [==============================] - 0s 73us/step - loss: 2.9034e-04\n",
            "Epoch 185/200\n",
            "1006/1006 [==============================] - 0s 65us/step - loss: 2.9102e-04\n",
            "Epoch 186/200\n",
            "1006/1006 [==============================] - 0s 75us/step - loss: 2.9047e-04\n",
            "Epoch 187/200\n",
            "1006/1006 [==============================] - 0s 70us/step - loss: 2.9161e-04\n",
            "Epoch 188/200\n",
            "1006/1006 [==============================] - 0s 68us/step - loss: 2.9164e-04\n",
            "Epoch 189/200\n",
            "1006/1006 [==============================] - 0s 74us/step - loss: 2.9260e-04\n",
            "Epoch 190/200\n",
            "1006/1006 [==============================] - 0s 80us/step - loss: 3.0792e-04\n",
            "Epoch 191/200\n",
            "1006/1006 [==============================] - 0s 78us/step - loss: 2.9240e-04\n",
            "Epoch 192/200\n",
            "1006/1006 [==============================] - 0s 75us/step - loss: 2.9664e-04\n",
            "Epoch 193/200\n",
            "1006/1006 [==============================] - 0s 76us/step - loss: 2.9197e-04\n",
            "Epoch 194/200\n",
            "1006/1006 [==============================] - 0s 75us/step - loss: 2.9150e-04\n",
            "Epoch 195/200\n",
            "1006/1006 [==============================] - 0s 74us/step - loss: 2.9244e-04\n",
            "Epoch 196/200\n",
            "1006/1006 [==============================] - 0s 74us/step - loss: 2.9261e-04\n",
            "Epoch 197/200\n",
            "1006/1006 [==============================] - 0s 76us/step - loss: 2.9351e-04\n",
            "Epoch 198/200\n",
            "1006/1006 [==============================] - 0s 70us/step - loss: 2.9065e-04\n",
            "Epoch 199/200\n",
            "1006/1006 [==============================] - 0s 63us/step - loss: 2.8937e-04\n",
            "Epoch 200/200\n",
            "1006/1006 [==============================] - 0s 62us/step - loss: 2.9306e-04\n"
          ],
          "name": "stdout"
        },
        {
          "output_type": "execute_result",
          "data": {
            "text/plain": [
              "<keras.callbacks.History at 0x7f6ef763db38>"
            ]
          },
          "metadata": {
            "tags": []
          },
          "execution_count": 107
        }
      ]
    },
    {
      "cell_type": "code",
      "metadata": {
        "id": "6WHEcGEcTLyr"
      },
      "source": [
        "predicted_gru_price = regressor.predict(inputs)\n",
        "predicted_gru_price = sc.inverse_transform(predicted_gru_price)"
      ],
      "execution_count": null,
      "outputs": []
    },
    {
      "cell_type": "code",
      "metadata": {
        "id": "XGfBWJknX6Jn",
        "colab": {
          "base_uri": "https://localhost:8080/",
          "height": 195
        },
        "outputId": "08a9fbee-c53f-41f1-9f3d-718fbea5d39d"
      },
      "source": [
        "test_set['pred_LSTM']=predicted_lstm_price\n",
        "test_set['pred_GRU']=predicted_gru_price\n",
        "test_set.head()"
      ],
      "execution_count": null,
      "outputs": [
        {
          "output_type": "execute_result",
          "data": {
            "text/html": [
              "<div>\n",
              "<style scoped>\n",
              "    .dataframe tbody tr th:only-of-type {\n",
              "        vertical-align: middle;\n",
              "    }\n",
              "\n",
              "    .dataframe tbody tr th {\n",
              "        vertical-align: top;\n",
              "    }\n",
              "\n",
              "    .dataframe thead th {\n",
              "        text-align: right;\n",
              "    }\n",
              "</style>\n",
              "<table border=\"1\" class=\"dataframe\">\n",
              "  <thead>\n",
              "    <tr style=\"text-align: right;\">\n",
              "      <th></th>\n",
              "      <th>Date</th>\n",
              "      <th>Open</th>\n",
              "      <th>High</th>\n",
              "      <th>Low</th>\n",
              "      <th>Close</th>\n",
              "      <th>pred_LSTM</th>\n",
              "      <th>pred_GRU</th>\n",
              "    </tr>\n",
              "  </thead>\n",
              "  <tbody>\n",
              "    <tr>\n",
              "      <th>0</th>\n",
              "      <td>02-Nov-15</td>\n",
              "      <td>8054.55</td>\n",
              "      <td>8060.70</td>\n",
              "      <td>7995.60</td>\n",
              "      <td>8050.80</td>\n",
              "      <td>8053.468750</td>\n",
              "      <td>8059.348145</td>\n",
              "    </tr>\n",
              "    <tr>\n",
              "      <th>1</th>\n",
              "      <td>03-Nov-15</td>\n",
              "      <td>8086.35</td>\n",
              "      <td>8100.35</td>\n",
              "      <td>8031.75</td>\n",
              "      <td>8060.70</td>\n",
              "      <td>8083.377930</td>\n",
              "      <td>8091.167480</td>\n",
              "    </tr>\n",
              "    <tr>\n",
              "      <th>2</th>\n",
              "      <td>04-Nov-15</td>\n",
              "      <td>8104.90</td>\n",
              "      <td>8116.10</td>\n",
              "      <td>8027.30</td>\n",
              "      <td>8040.20</td>\n",
              "      <td>8100.857422</td>\n",
              "      <td>8109.736328</td>\n",
              "    </tr>\n",
              "    <tr>\n",
              "      <th>3</th>\n",
              "      <td>05-Nov-15</td>\n",
              "      <td>8030.35</td>\n",
              "      <td>8031.20</td>\n",
              "      <td>7944.10</td>\n",
              "      <td>7955.45</td>\n",
              "      <td>8030.756348</td>\n",
              "      <td>8035.142090</td>\n",
              "    </tr>\n",
              "    <tr>\n",
              "      <th>4</th>\n",
              "      <td>06-Nov-15</td>\n",
              "      <td>7956.55</td>\n",
              "      <td>8002.65</td>\n",
              "      <td>7926.15</td>\n",
              "      <td>7954.30</td>\n",
              "      <td>7961.748535</td>\n",
              "      <td>7961.377930</td>\n",
              "    </tr>\n",
              "  </tbody>\n",
              "</table>\n",
              "</div>"
            ],
            "text/plain": [
              "        Date     Open     High      Low    Close    pred_LSTM     pred_GRU\n",
              "0  02-Nov-15  8054.55  8060.70  7995.60  8050.80  8053.468750  8059.348145\n",
              "1  03-Nov-15  8086.35  8100.35  8031.75  8060.70  8083.377930  8091.167480\n",
              "2  04-Nov-15  8104.90  8116.10  8027.30  8040.20  8100.857422  8109.736328\n",
              "3  05-Nov-15  8030.35  8031.20  7944.10  7955.45  8030.756348  8035.142090\n",
              "4  06-Nov-15  7956.55  8002.65  7926.15  7954.30  7961.748535  7961.377930"
            ]
          },
          "metadata": {
            "tags": []
          },
          "execution_count": 109
        }
      ]
    },
    {
      "cell_type": "code",
      "metadata": {
        "id": "oyKRJ4RwmOs0",
        "colab": {
          "base_uri": "https://localhost:8080/",
          "height": 295
        },
        "outputId": "9a24752f-1b87-4642-a1b9-1dab902b0f40"
      },
      "source": [
        "plt.plot(test_set.iloc[:,1:2].values, color = 'r', label = 'Actual')\n",
        "#plt.set_size_inches(16,5)\n",
        "plt.plot(test_set['pred_GRU'], color = 'b', label = 'GRU')\n",
        "plt.plot(test_set['pred_LSTM'], color = 'g', label = 'LSTM')\n",
        "plt.title('LSTM VS GRU VS ACTUAL')\n",
        "plt.xlabel('Date')\n",
        "plt.ylabel(' Price')\n",
        "plt.legend()\n",
        "plt.show()"
      ],
      "execution_count": null,
      "outputs": [
        {
          "output_type": "display_data",
          "data": {
            "image/png": "[encoded data removed]",
            "text/plain": [
              "<Figure size 432x288 with 1 Axes>"
            ]
          },
          "metadata": {
            "tags": []
          }
        }
      ]
    },
    {
      "cell_type": "markdown",
      "metadata": {
        "id": "eg-Iz8TdXvcD"
      },
      "source": [
        "***FINAL***"
      ]
    },
    {
      "cell_type": "code",
      "metadata": {
        "id": "3iQ0tN6yTVhU",
        "colab": {
          "base_uri": "https://localhost:8080/",
          "height": 914
        },
        "outputId": "58ead1e2-26fc-4335-bc82-4c3cd7c21b5b"
      },
      "source": [
        "predicted_gru_price,predicted_lstm_price,test_data['ARIMA_Predictions'],test_data['Close'],test_data_pr['Prophet_Predictions'\n",
        "]"
      ],
      "execution_count": null,
      "outputs": [
        {
          "output_type": "execute_result",
          "data": {
            "text/plain": [
              "(array([[ 8059.348 ],\n",
              "        [ 8091.1675],\n",
              "        [ 8109.7363],\n",
              "        ...,\n",
              "        [11925.756 ],\n",
              "        [12004.014 ],\n",
              "        [12103.702 ]], dtype=float32), array([[ 8053.4688],\n",
              "        [ 8083.378 ],\n",
              "        [ 8100.8574],\n",
              "        ...,\n",
              "        [11913.876 ],\n",
              "        [11975.916 ],\n",
              "        [12015.163 ]], dtype=float32), Date\n",
              " 2019-11-21    11987.585690\n",
              " 2019-11-22    11989.073080\n",
              " 2019-11-25    11994.941951\n",
              " 2019-11-26    11992.077809\n",
              " 2019-11-27    11981.435900\n",
              " 2019-11-28    11995.084555\n",
              " 2019-11-29    11996.429089\n",
              " 2019-12-02    12003.982941\n",
              " 2019-12-06    12008.562122\n",
              " 2019-12-12    12005.758814\n",
              " 2019-12-13    12019.831075\n",
              " 2019-12-16    11987.058084\n",
              " Name: ARIMA_Predictions, dtype: float64, Date\n",
              " 2019-11-21    11968.40\n",
              " 2019-11-22    11914.40\n",
              " 2019-11-25    12073.75\n",
              " 2019-11-26    12037.70\n",
              " 2019-11-27    12100.70\n",
              " 2019-11-28    12151.15\n",
              " 2019-11-29    12056.05\n",
              " 2019-12-02    12048.20\n",
              " 2019-12-06    11921.50\n",
              " 2019-12-12    11971.80\n",
              " 2019-12-13    12086.70\n",
              " 2019-12-16    12053.95\n",
              " Name: Close, dtype: float64, 995     11574.824955\n",
              " 996     11678.964589\n",
              " 997     11796.095675\n",
              " 998     12008.275307\n",
              " 999     12246.247315\n",
              " 1000    12374.080499\n",
              " 1001    12504.234669\n",
              " 1002    12359.005115\n",
              " 1003    12258.838029\n",
              " 1004    12323.461034\n",
              " 1005    12225.285304\n",
              " 1006    12522.411629\n",
              " Name: Prophet_Predictions, dtype: float64)"
            ]
          },
          "metadata": {
            "tags": []
          },
          "execution_count": 111
        }
      ]
    },
    {
      "cell_type": "code",
      "metadata": {
        "id": "0xJZHo6tTcf0"
      },
      "source": [
        "test_data_pr[\"Prophet_Predictions\"] = prophet_pred['Pred'].values"
      ],
      "execution_count": null,
      "outputs": []
    },
    {
      "cell_type": "code",
      "metadata": {
        "id": "ulmOUuq_UPu1"
      },
      "source": [
        "test_data_pr['ARIMA']=test_data['ARIMA_Predictions'].values"
      ],
      "execution_count": null,
      "outputs": []
    },
    {
      "cell_type": "code",
      "metadata": {
        "id": "M5wepFMiWkYj",
        "colab": {
          "base_uri": "https://localhost:8080/",
          "height": 195
        },
        "outputId": "0dc07766-9625-42e2-c78e-fab958c26f03"
      },
      "source": [
        "test_data_pr.head()"
      ],
      "execution_count": null,
      "outputs": [
        {
          "output_type": "execute_result",
          "data": {
            "text/html": [
              "<div>\n",
              "<style scoped>\n",
              "    .dataframe tbody tr th:only-of-type {\n",
              "        vertical-align: middle;\n",
              "    }\n",
              "\n",
              "    .dataframe tbody tr th {\n",
              "        vertical-align: top;\n",
              "    }\n",
              "\n",
              "    .dataframe thead th {\n",
              "        text-align: right;\n",
              "    }\n",
              "</style>\n",
              "<table border=\"1\" class=\"dataframe\">\n",
              "  <thead>\n",
              "    <tr style=\"text-align: right;\">\n",
              "      <th></th>\n",
              "      <th>ds</th>\n",
              "      <th>open</th>\n",
              "      <th>high</th>\n",
              "      <th>low</th>\n",
              "      <th>y</th>\n",
              "      <th>Prophet_Predictions</th>\n",
              "      <th>ARIMA</th>\n",
              "    </tr>\n",
              "  </thead>\n",
              "  <tbody>\n",
              "    <tr>\n",
              "      <th>995</th>\n",
              "      <td>21-Nov-19</td>\n",
              "      <td>12025.65</td>\n",
              "      <td>12028.20</td>\n",
              "      <td>11956.90</td>\n",
              "      <td>11968.40</td>\n",
              "      <td>11574.824955</td>\n",
              "      <td>11987.585690</td>\n",
              "    </tr>\n",
              "    <tr>\n",
              "      <th>996</th>\n",
              "      <td>22-Nov-19</td>\n",
              "      <td>11967.30</td>\n",
              "      <td>11968.10</td>\n",
              "      <td>11883.50</td>\n",
              "      <td>11914.40</td>\n",
              "      <td>11678.964589</td>\n",
              "      <td>11989.073080</td>\n",
              "    </tr>\n",
              "    <tr>\n",
              "      <th>997</th>\n",
              "      <td>25-Nov-19</td>\n",
              "      <td>11922.45</td>\n",
              "      <td>12084.50</td>\n",
              "      <td>11919.75</td>\n",
              "      <td>12073.75</td>\n",
              "      <td>11796.095675</td>\n",
              "      <td>11994.941951</td>\n",
              "    </tr>\n",
              "    <tr>\n",
              "      <th>998</th>\n",
              "      <td>26-Nov-19</td>\n",
              "      <td>12110.20</td>\n",
              "      <td>12132.45</td>\n",
              "      <td>12006.35</td>\n",
              "      <td>12037.70</td>\n",
              "      <td>12008.275307</td>\n",
              "      <td>11992.077809</td>\n",
              "    </tr>\n",
              "    <tr>\n",
              "      <th>999</th>\n",
              "      <td>27-Nov-19</td>\n",
              "      <td>12068.50</td>\n",
              "      <td>12114.90</td>\n",
              "      <td>12055.15</td>\n",
              "      <td>12100.70</td>\n",
              "      <td>12246.247315</td>\n",
              "      <td>11981.435900</td>\n",
              "    </tr>\n",
              "  </tbody>\n",
              "</table>\n",
              "</div>"
            ],
            "text/plain": [
              "            ds      open      high  ...         y  Prophet_Predictions         ARIMA\n",
              "995  21-Nov-19  12025.65  12028.20  ...  11968.40         11574.824955  11987.585690\n",
              "996  22-Nov-19  11967.30  11968.10  ...  11914.40         11678.964589  11989.073080\n",
              "997  25-Nov-19  11922.45  12084.50  ...  12073.75         11796.095675  11994.941951\n",
              "998  26-Nov-19  12110.20  12132.45  ...  12037.70         12008.275307  11992.077809\n",
              "999  27-Nov-19  12068.50  12114.90  ...  12100.70         12246.247315  11981.435900\n",
              "\n",
              "[5 rows x 7 columns]"
            ]
          },
          "metadata": {
            "tags": []
          },
          "execution_count": 114
        }
      ]
    },
    {
      "cell_type": "code",
      "metadata": {
        "id": "Bj1LHmewZyXX",
        "colab": {
          "base_uri": "https://localhost:8080/",
          "height": 34
        },
        "outputId": "f1658598-ffbe-46af-fa11-b04fb7fbdaee"
      },
      "source": [
        "len(test_data_pr)"
      ],
      "execution_count": null,
      "outputs": [
        {
          "output_type": "execute_result",
          "data": {
            "text/plain": [
              "12"
            ]
          },
          "metadata": {
            "tags": []
          },
          "execution_count": 115
        }
      ]
    },
    {
      "cell_type": "code",
      "metadata": {
        "id": "GgSHDwPFU3s7",
        "colab": {
          "base_uri": "https://localhost:8080/",
          "height": 195
        },
        "outputId": "216c97ac-af8a-47db-bac3-d2ce863110b6"
      },
      "source": [
        "test_set.head()"
      ],
      "execution_count": null,
      "outputs": [
        {
          "output_type": "execute_result",
          "data": {
            "text/html": [
              "<div>\n",
              "<style scoped>\n",
              "    .dataframe tbody tr th:only-of-type {\n",
              "        vertical-align: middle;\n",
              "    }\n",
              "\n",
              "    .dataframe tbody tr th {\n",
              "        vertical-align: top;\n",
              "    }\n",
              "\n",
              "    .dataframe thead th {\n",
              "        text-align: right;\n",
              "    }\n",
              "</style>\n",
              "<table border=\"1\" class=\"dataframe\">\n",
              "  <thead>\n",
              "    <tr style=\"text-align: right;\">\n",
              "      <th></th>\n",
              "      <th>Date</th>\n",
              "      <th>Open</th>\n",
              "      <th>High</th>\n",
              "      <th>Low</th>\n",
              "      <th>Close</th>\n",
              "      <th>pred_LSTM</th>\n",
              "      <th>pred_GRU</th>\n",
              "    </tr>\n",
              "  </thead>\n",
              "  <tbody>\n",
              "    <tr>\n",
              "      <th>0</th>\n",
              "      <td>02-Nov-15</td>\n",
              "      <td>8054.55</td>\n",
              "      <td>8060.70</td>\n",
              "      <td>7995.60</td>\n",
              "      <td>8050.80</td>\n",
              "      <td>8053.468750</td>\n",
              "      <td>8059.348145</td>\n",
              "    </tr>\n",
              "    <tr>\n",
              "      <th>1</th>\n",
              "      <td>03-Nov-15</td>\n",
              "      <td>8086.35</td>\n",
              "      <td>8100.35</td>\n",
              "      <td>8031.75</td>\n",
              "      <td>8060.70</td>\n",
              "      <td>8083.377930</td>\n",
              "      <td>8091.167480</td>\n",
              "    </tr>\n",
              "    <tr>\n",
              "      <th>2</th>\n",
              "      <td>04-Nov-15</td>\n",
              "      <td>8104.90</td>\n",
              "      <td>8116.10</td>\n",
              "      <td>8027.30</td>\n",
              "      <td>8040.20</td>\n",
              "      <td>8100.857422</td>\n",
              "      <td>8109.736328</td>\n",
              "    </tr>\n",
              "    <tr>\n",
              "      <th>3</th>\n",
              "      <td>05-Nov-15</td>\n",
              "      <td>8030.35</td>\n",
              "      <td>8031.20</td>\n",
              "      <td>7944.10</td>\n",
              "      <td>7955.45</td>\n",
              "      <td>8030.756348</td>\n",
              "      <td>8035.142090</td>\n",
              "    </tr>\n",
              "    <tr>\n",
              "      <th>4</th>\n",
              "      <td>06-Nov-15</td>\n",
              "      <td>7956.55</td>\n",
              "      <td>8002.65</td>\n",
              "      <td>7926.15</td>\n",
              "      <td>7954.30</td>\n",
              "      <td>7961.748535</td>\n",
              "      <td>7961.377930</td>\n",
              "    </tr>\n",
              "  </tbody>\n",
              "</table>\n",
              "</div>"
            ],
            "text/plain": [
              "        Date     Open     High      Low    Close    pred_LSTM     pred_GRU\n",
              "0  02-Nov-15  8054.55  8060.70  7995.60  8050.80  8053.468750  8059.348145\n",
              "1  03-Nov-15  8086.35  8100.35  8031.75  8060.70  8083.377930  8091.167480\n",
              "2  04-Nov-15  8104.90  8116.10  8027.30  8040.20  8100.857422  8109.736328\n",
              "3  05-Nov-15  8030.35  8031.20  7944.10  7955.45  8030.756348  8035.142090\n",
              "4  06-Nov-15  7956.55  8002.65  7926.15  7954.30  7961.748535  7961.377930"
            ]
          },
          "metadata": {
            "tags": []
          },
          "execution_count": 116
        }
      ]
    },
    {
      "cell_type": "code",
      "metadata": {
        "id": "2Pxk_wPCW01j",
        "colab": {
          "base_uri": "https://localhost:8080/",
          "height": 402
        },
        "outputId": "efcbfcff-5398-40d8-f28a-2eb6b2f80d48"
      },
      "source": [
        "test_set.iloc[995:1007,5:7]"
      ],
      "execution_count": null,
      "outputs": [
        {
          "output_type": "execute_result",
          "data": {
            "text/html": [
              "<div>\n",
              "<style scoped>\n",
              "    .dataframe tbody tr th:only-of-type {\n",
              "        vertical-align: middle;\n",
              "    }\n",
              "\n",
              "    .dataframe tbody tr th {\n",
              "        vertical-align: top;\n",
              "    }\n",
              "\n",
              "    .dataframe thead th {\n",
              "        text-align: right;\n",
              "    }\n",
              "</style>\n",
              "<table border=\"1\" class=\"dataframe\">\n",
              "  <thead>\n",
              "    <tr style=\"text-align: right;\">\n",
              "      <th></th>\n",
              "      <th>pred_LSTM</th>\n",
              "      <th>pred_GRU</th>\n",
              "    </tr>\n",
              "  </thead>\n",
              "  <tbody>\n",
              "    <tr>\n",
              "      <th>995</th>\n",
              "      <td>11975.442383</td>\n",
              "      <td>12003.300781</td>\n",
              "    </tr>\n",
              "    <tr>\n",
              "      <th>996</th>\n",
              "      <td>11934.632812</td>\n",
              "      <td>11947.704102</td>\n",
              "    </tr>\n",
              "    <tr>\n",
              "      <th>997</th>\n",
              "      <td>11894.143555</td>\n",
              "      <td>11904.888672</td>\n",
              "    </tr>\n",
              "    <tr>\n",
              "      <th>998</th>\n",
              "      <td>12007.897461</td>\n",
              "      <td>12083.644531</td>\n",
              "    </tr>\n",
              "    <tr>\n",
              "      <th>999</th>\n",
              "      <td>11993.511719</td>\n",
              "      <td>12044.050781</td>\n",
              "    </tr>\n",
              "    <tr>\n",
              "      <th>1000</th>\n",
              "      <td>12015.420898</td>\n",
              "      <td>12104.413086</td>\n",
              "    </tr>\n",
              "    <tr>\n",
              "      <th>1001</th>\n",
              "      <td>12020.253906</td>\n",
              "      <td>12117.775391</td>\n",
              "    </tr>\n",
              "    <tr>\n",
              "      <th>1002</th>\n",
              "      <td>12017.118164</td>\n",
              "      <td>12109.104492</td>\n",
              "    </tr>\n",
              "    <tr>\n",
              "      <th>1003</th>\n",
              "      <td>11986.186523</td>\n",
              "      <td>12023.945312</td>\n",
              "    </tr>\n",
              "    <tr>\n",
              "      <th>1004</th>\n",
              "      <td>11913.875977</td>\n",
              "      <td>11925.755859</td>\n",
              "    </tr>\n",
              "    <tr>\n",
              "      <th>1005</th>\n",
              "      <td>11975.916016</td>\n",
              "      <td>12004.013672</td>\n",
              "    </tr>\n",
              "    <tr>\n",
              "      <th>1006</th>\n",
              "      <td>12015.163086</td>\n",
              "      <td>12103.702148</td>\n",
              "    </tr>\n",
              "  </tbody>\n",
              "</table>\n",
              "</div>"
            ],
            "text/plain": [
              "         pred_LSTM      pred_GRU\n",
              "995   11975.442383  12003.300781\n",
              "996   11934.632812  11947.704102\n",
              "997   11894.143555  11904.888672\n",
              "998   12007.897461  12083.644531\n",
              "999   11993.511719  12044.050781\n",
              "1000  12015.420898  12104.413086\n",
              "1001  12020.253906  12117.775391\n",
              "1002  12017.118164  12109.104492\n",
              "1003  11986.186523  12023.945312\n",
              "1004  11913.875977  11925.755859\n",
              "1005  11975.916016  12004.013672\n",
              "1006  12015.163086  12103.702148"
            ]
          },
          "metadata": {
            "tags": []
          },
          "execution_count": 117
        }
      ]
    },
    {
      "cell_type": "code",
      "metadata": {
        "id": "XruIXm6ZU6rE"
      },
      "source": [
        "test_data_pr['LSTM']=test_set.iloc[995:1007,5:6]"
      ],
      "execution_count": null,
      "outputs": []
    },
    {
      "cell_type": "code",
      "metadata": {
        "id": "hvfLc5iOabIn"
      },
      "source": [
        "test_data_pr['GRU']=test_set.iloc[995:1007,6:7]"
      ],
      "execution_count": null,
      "outputs": []
    },
    {
      "cell_type": "code",
      "metadata": {
        "id": "8ENsREk3imVW"
      },
      "source": [
        "test_data_pr['Close']=test_set.iloc[995:1007,6:7]=test_set.iloc[995:1007,4:5]"
      ],
      "execution_count": null,
      "outputs": []
    },
    {
      "cell_type": "code",
      "metadata": {
        "id": "Gob_uwbOW75Z",
        "colab": {
          "base_uri": "https://localhost:8080/",
          "height": 34
        },
        "outputId": "5051ad9f-9c4e-44d7-e6c5-1b345944da62"
      },
      "source": [
        "len(predicted_lstm_price)"
      ],
      "execution_count": null,
      "outputs": [
        {
          "output_type": "execute_result",
          "data": {
            "text/plain": [
              "1007"
            ]
          },
          "metadata": {
            "tags": []
          },
          "execution_count": 121
        }
      ]
    },
    {
      "cell_type": "code",
      "metadata": {
        "id": "hriHDeytWhxJ",
        "colab": {
          "base_uri": "https://localhost:8080/",
          "height": 195
        },
        "outputId": "c1f0e288-9e36-4871-a857-dc2531f4c94d"
      },
      "source": [
        "test_data_pr.head()"
      ],
      "execution_count": null,
      "outputs": [
        {
          "output_type": "execute_result",
          "data": {
            "text/html": [
              "<div>\n",
              "<style scoped>\n",
              "    .dataframe tbody tr th:only-of-type {\n",
              "        vertical-align: middle;\n",
              "    }\n",
              "\n",
              "    .dataframe tbody tr th {\n",
              "        vertical-align: top;\n",
              "    }\n",
              "\n",
              "    .dataframe thead th {\n",
              "        text-align: right;\n",
              "    }\n",
              "</style>\n",
              "<table border=\"1\" class=\"dataframe\">\n",
              "  <thead>\n",
              "    <tr style=\"text-align: right;\">\n",
              "      <th></th>\n",
              "      <th>ds</th>\n",
              "      <th>open</th>\n",
              "      <th>high</th>\n",
              "      <th>low</th>\n",
              "      <th>y</th>\n",
              "      <th>Prophet_Predictions</th>\n",
              "      <th>ARIMA</th>\n",
              "      <th>LSTM</th>\n",
              "      <th>GRU</th>\n",
              "      <th>Close</th>\n",
              "    </tr>\n",
              "  </thead>\n",
              "  <tbody>\n",
              "    <tr>\n",
              "      <th>995</th>\n",
              "      <td>21-Nov-19</td>\n",
              "      <td>12025.65</td>\n",
              "      <td>12028.20</td>\n",
              "      <td>11956.90</td>\n",
              "      <td>11968.40</td>\n",
              "      <td>11574.824955</td>\n",
              "      <td>11987.585690</td>\n",
              "      <td>11975.442383</td>\n",
              "      <td>12003.300781</td>\n",
              "      <td>11968.40</td>\n",
              "    </tr>\n",
              "    <tr>\n",
              "      <th>996</th>\n",
              "      <td>22-Nov-19</td>\n",
              "      <td>11967.30</td>\n",
              "      <td>11968.10</td>\n",
              "      <td>11883.50</td>\n",
              "      <td>11914.40</td>\n",
              "      <td>11678.964589</td>\n",
              "      <td>11989.073080</td>\n",
              "      <td>11934.632812</td>\n",
              "      <td>11947.704102</td>\n",
              "      <td>11914.40</td>\n",
              "    </tr>\n",
              "    <tr>\n",
              "      <th>997</th>\n",
              "      <td>25-Nov-19</td>\n",
              "      <td>11922.45</td>\n",
              "      <td>12084.50</td>\n",
              "      <td>11919.75</td>\n",
              "      <td>12073.75</td>\n",
              "      <td>11796.095675</td>\n",
              "      <td>11994.941951</td>\n",
              "      <td>11894.143555</td>\n",
              "      <td>11904.888672</td>\n",
              "      <td>12073.75</td>\n",
              "    </tr>\n",
              "    <tr>\n",
              "      <th>998</th>\n",
              "      <td>26-Nov-19</td>\n",
              "      <td>12110.20</td>\n",
              "      <td>12132.45</td>\n",
              "      <td>12006.35</td>\n",
              "      <td>12037.70</td>\n",
              "      <td>12008.275307</td>\n",
              "      <td>11992.077809</td>\n",
              "      <td>12007.897461</td>\n",
              "      <td>12083.644531</td>\n",
              "      <td>12037.70</td>\n",
              "    </tr>\n",
              "    <tr>\n",
              "      <th>999</th>\n",
              "      <td>27-Nov-19</td>\n",
              "      <td>12068.50</td>\n",
              "      <td>12114.90</td>\n",
              "      <td>12055.15</td>\n",
              "      <td>12100.70</td>\n",
              "      <td>12246.247315</td>\n",
              "      <td>11981.435900</td>\n",
              "      <td>11993.511719</td>\n",
              "      <td>12044.050781</td>\n",
              "      <td>12100.70</td>\n",
              "    </tr>\n",
              "  </tbody>\n",
              "</table>\n",
              "</div>"
            ],
            "text/plain": [
              "            ds      open      high  ...          LSTM           GRU     Close\n",
              "995  21-Nov-19  12025.65  12028.20  ...  11975.442383  12003.300781  11968.40\n",
              "996  22-Nov-19  11967.30  11968.10  ...  11934.632812  11947.704102  11914.40\n",
              "997  25-Nov-19  11922.45  12084.50  ...  11894.143555  11904.888672  12073.75\n",
              "998  26-Nov-19  12110.20  12132.45  ...  12007.897461  12083.644531  12037.70\n",
              "999  27-Nov-19  12068.50  12114.90  ...  11993.511719  12044.050781  12100.70\n",
              "\n",
              "[5 rows x 10 columns]"
            ]
          },
          "metadata": {
            "tags": []
          },
          "execution_count": 122
        }
      ]
    },
    {
      "cell_type": "code",
      "metadata": {
        "id": "kz7itP1uGXKF",
        "colab": {
          "base_uri": "https://localhost:8080/",
          "height": 246
        },
        "outputId": "18df8a8a-d3d7-4e48-cc82-c3d362949820"
      },
      "source": [
        "test_data_pr['y']"
      ],
      "execution_count": null,
      "outputs": [
        {
          "output_type": "execute_result",
          "data": {
            "text/plain": [
              "995     11968.40\n",
              "996     11914.40\n",
              "997     12073.75\n",
              "998     12037.70\n",
              "999     12100.70\n",
              "1000    12151.15\n",
              "1001    12056.05\n",
              "1002    12048.20\n",
              "1003    11921.50\n",
              "1004    11971.80\n",
              "1005    12086.70\n",
              "1006    12053.95\n",
              "Name: y, dtype: float64"
            ]
          },
          "metadata": {
            "tags": []
          },
          "execution_count": 123
        }
      ]
    },
    {
      "cell_type": "code",
      "metadata": {
        "id": "YyzgQkkCalLc",
        "colab": {
          "base_uri": "https://localhost:8080/",
          "height": 458
        },
        "outputId": "cd565be8-7452-4f3e-e274-8d7e2c4f6d94"
      },
      "source": [
        "plt.figure(figsize=(16,7))\n",
        "plt.plot(test_data_pr[\"Close\"],color='aqua',label = 'Actual')\n",
        "\n",
        "plt.plot(test_data_pr[\"Prophet_Predictions\"],color='orangered',label = 'PROPHET')\n",
        "plt.plot(test_data_pr[\"ARIMA\"],color='lime',label = 'ARIMA')\n",
        "plt.plot(test_data_pr[\"LSTM\"],color='magenta',label = 'LSTM')\n",
        "plt.plot(test_data_pr[\"GRU\"],color='g',label = 'GRU')\n",
        "\n",
        "plt.title('PROPHET VS ARIMA VS LSTM VS GRU')\n",
        "plt.xlabel('Time Frame')\n",
        "plt.ylabel('Price')\n",
        "plt.legend(loc='lower right')\n",
        "plt.show()"
      ],
      "execution_count": null,
      "outputs": [
        {
          "output_type": "display_data",
          "data": {
            "image/png": "[encoded data removed]",
            "text/plain": [
              "<Figure size 1152x504 with 1 Axes>"
            ]
          },
          "metadata": {
            "tags": []
          }
        }
      ]
    },
    {
      "cell_type": "code",
      "metadata": {
        "id": "6e-XcXfTcFTu"
      },
      "source": [
        ""
      ],
      "execution_count": null,
      "outputs": []
    }
  ]
}